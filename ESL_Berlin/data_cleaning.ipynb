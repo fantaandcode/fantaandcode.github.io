{
 "cells": [
  {
   "cell_type": "code",
   "execution_count": 1,
   "id": "38f12f8a-6d11-4297-9caa-2660b3d25b2e",
   "metadata": {},
   "outputs": [],
   "source": [
    "import glob\n",
    "import pandas as pd\n",
    "import numpy as np\n",
    "\n",
    "import difflib\n",
    "\n",
    "import plotly.express as px\n",
    "import plotly.io as pio"
   ]
  },
  {
   "cell_type": "markdown",
   "id": "5ba167bd-0cff-422e-9d21-b5a8f65efece",
   "metadata": {},
   "source": [
    "# ESL Berlin Group Stage Bias Ratings"
   ]
  },
  {
   "cell_type": "code",
   "execution_count": 3,
   "id": "83961dc5-44b6-4d38-957c-4ee218c3918c",
   "metadata": {},
   "outputs": [],
   "source": [
    "resp_data = {}\n",
    "discord_names = []\n",
    "team_names = []\n",
    "\n",
    "for r_file in glob.glob(\"./data/*\"):\n",
    "    day = r_file[-5]\n",
    "    # print('day', r_file[-5], 'being parsed', end = '... ')\n",
    "    tmp = pd.read_csv(r_file)\n",
    "    \n",
    "    column_data = {}\n",
    "    \n",
    "    for c_n in tmp.columns:\n",
    "        if ' Vs ' in c_n or ' vs ' in c_n:\n",
    "            i = ''\n",
    "            if ' Vs ' in c_n:\n",
    "                i = c_n.split('Vs')\n",
    "            elif ' vs ' in c_n:\n",
    "                i = c_n.split('vs')\n",
    "\n",
    "            t_1 = i[0].strip()\n",
    "            t_2 = i[1][:-11].strip()\n",
    "            column_data[t_1 + ' v ' + t_2] = {'team_1': t_1, 'team_2': t_2}\n",
    "    \n",
    "    tmp.rename(columns={tmp.columns.values[1]: 'DISCORD_NAME_ID'}, inplace = True)\n",
    "    \n",
    "    tmp['DISCORD_NAME_ID'] = tmp.DISCORD_NAME_ID.fillna('????').astype(str)\n",
    "    tmp['DISCORD_NAME'] = tmp.DISCORD_NAME_ID.str.strip().apply(lambda x: x[:-5] if '#' in x else x).str.strip()\n",
    "    tmp['DISCORD_NUM'] = tmp.DISCORD_NAME_ID.str.strip().apply(lambda x: x[-4:] if '#' in x else '????').str.strip()\n",
    "    \n",
    "    # name columns and reorder columns\n",
    "    tmp.columns = np.concatenate((['SUBMIT_TS', 'DISCORD_NAME_ID'], list(column_data.keys()), ['DISCORD_NAME', 'DISCORD_NUM']))\n",
    "    tmp = tmp[list(np.concatenate((['SUBMIT_TS', 'DISCORD_NAME_ID', 'DISCORD_NAME', 'DISCORD_NUM'], list(column_data.keys()))))]\n",
    "    \n",
    "    for col in tmp.columns.drop(['SUBMIT_TS', 'DISCORD_NAME_ID', 'DISCORD_NAME', 'DISCORD_NUM']):\n",
    "        tmp[col] = tmp[col].str.strip('Victory').str.strip()\n",
    "    \n",
    "    # replacing the bad eggs, goddammit\n",
    "    tmp.replace({'Powdee': 'Powder',\n",
    "                 'waltz': 'Waltz',\n",
    "                 'cakes': 'Cakes'}, inplace = True)\n",
    "    \n",
    "    # replacing the misspelled teams, goddammit\n",
    "    tmp.replace({'Tunda Esports': 'Tundra Esports',\n",
    "                 '9 Panda': '9 Pandas',\n",
    "                 'Beastcaost': 'Beastcoast',\n",
    "                 'beastcoast': 'Beastcoast',\n",
    "                 'Gamin Gladiators': 'Gaimin Gladiators'}, inplace = True)\n",
    "    \n",
    "    column_data = pd.DataFrame(column_data).T.replace({'Tunda':' Tundra',\n",
    "                                                       '9 Panda': '9 Pandas',\n",
    "                                                       'Beastcaost': 'Beastcoast',\n",
    "                                                       'beastcoast': 'Beastcoast',\n",
    "                                                       'Gamin Gladiators': 'Gaimin Gladiators'})\n",
    "    \n",
    "    team_names = np.unique(np.append(np.array(team_names), np.unique(column_data.values)))\n",
    "    \n",
    "    discord_names = np.unique(np.append(np.array(discord_names), tmp.DISCORD_NAME.unique()))\n",
    "    \n",
    "    resp_data[day] = {'dataframe': tmp, 'col_data': column_data}\n",
    "    \n",
    "    # print('day', r_file[-5], '-', tmp.shape[0], 'responses parsed!')"
   ]
  },
  {
   "cell_type": "code",
   "execution_count": 4,
   "id": "03d887b8-81ed-4805-be97-d72c70388be6",
   "metadata": {},
   "outputs": [
    {
     "name": "stdout",
     "output_type": "stream",
     "text": [
      "['Talon Esports', 'Tundra Esports']\n",
      "['Team Liquid', 'Team Spirit']\n",
      "['Team SMG', 'Team Spirit']\n",
      "['Team Spirit', 'Team Liquid', 'Team SMG']\n",
      "['Tundra Esports', 'Talon Esports']\n"
     ]
    }
   ],
   "source": [
    "for team in team_names:\n",
    "    if len(difflib.get_close_matches(team, team_names)) > 1:\n",
    "        print(difflib.get_close_matches(team, team_names))"
   ]
  },
  {
   "cell_type": "code",
   "execution_count": 5,
   "id": "4aa41735-1bf2-4195-8686-d5abb3e847a4",
   "metadata": {},
   "outputs": [],
   "source": [
    "for name in discord_names:\n",
    "    if len(difflib.get_close_matches(name, discord_names)) > 1:\n",
    "        print(difflib.get_close_matches(name, discord_names))"
   ]
  },
  {
   "cell_type": "code",
   "execution_count": 6,
   "id": "9e5fc9a4-9242-40d8-ae17-54e9de984081",
   "metadata": {
    "tags": []
   },
   "outputs": [
    {
     "name": "stdout",
     "output_type": "stream",
     "text": [
      "==============\n",
      "day 1 reponses\n",
      "==============\n",
      "==============\n",
      "day 2 reponses\n",
      "==============\n",
      "==============\n",
      "day 3 reponses\n",
      "==============\n",
      "==============\n",
      "day 4 reponses\n",
      "==============\n",
      "==============\n",
      "day 5 reponses\n",
      "==============\n"
     ]
    }
   ],
   "source": [
    "days = np.array(list(resp_data.keys()))\n",
    "days.sort()\n",
    "\n",
    "responder_biases = {}\n",
    "\n",
    "for dn in discord_names:\n",
    "    responder_biases[dn] = {'DAYS_RESPONDED': 0, 'MATCHES_PREDICTED': 0}\n",
    "    for team in team_names:\n",
    "        responder_biases[dn][team] = 0.0\n",
    "\n",
    "for day in days:\n",
    "    print('==============\\nday', day, 'reponses\\n==============')\n",
    "    day_info = resp_data[day]\n",
    "    day_frame = day_info['dataframe']\n",
    "    day_series = day_info['col_data']\n",
    "    day_frame = day_frame[day_frame.DISCORD_NAME != '????']\n",
    "    for dn in discord_names:\n",
    "        dn_data = day_frame[day_frame.DISCORD_NAME == dn]\n",
    "        \n",
    "        if dn_data.shape[0]:\n",
    "            responder_biases[dn]['DAYS_RESPONDED'] += 1\n",
    "            responder_biases[dn]['MATCHES_PREDICTED'] += day_series.shape[0]\n",
    "            for series in day_series.index:\n",
    "                response = day_frame[day_frame.DISCORD_NAME == dn][series].unique()[0]\n",
    "                \n",
    "                if response == 'Tie':\n",
    "                    responder_biases[dn][day_series.loc[series]['team_1']] += 0.5\n",
    "                    responder_biases[dn][day_series.loc[series]['team_2']] += 0.5\n",
    "                else:\n",
    "                    responder_biases[dn][response] += 1\n",
    "                # print('\\t', series, '\\t', day_frame[day_frame.DISCORD_NAME == dn][series].unique()[0])\n",
    "    # print()"
   ]
  },
  {
   "cell_type": "code",
   "execution_count": 7,
   "id": "5bf263fc-150b-472f-b1c1-7526cffed1f9",
   "metadata": {},
   "outputs": [],
   "source": [
    "r_bias_df = pd.DataFrame(responder_biases).T.fillna(0.0)"
   ]
  },
  {
   "cell_type": "code",
   "execution_count": 8,
   "id": "a895a93c-0bbd-4e96-a8aa-536a6aae621a",
   "metadata": {},
   "outputs": [],
   "source": [
    "r_bias_df.reset_index(names = 'DISCORD_NAME', inplace = True)"
   ]
  },
  {
   "cell_type": "code",
   "execution_count": 9,
   "id": "a0072cc1-1419-45ec-bd90-1f4cca2c8607",
   "metadata": {},
   "outputs": [],
   "source": [
    "r_bias_df['NA_BIAS'] = (r_bias_df['TSM'] + r_bias_df['Shopify Rebellion']) / r_bias_df['MATCHES_PREDICTED'] * 18 / 2\n",
    "r_bias_df['SA_BIAS'] = (r_bias_df['Beastcoast'] + r_bias_df['Evil Geniuses']) / r_bias_df['MATCHES_PREDICTED'] * 18 / 2\n",
    "r_bias_df['WEU_BIAS'] = (r_bias_df['Team Liquid'] + r_bias_df['Tundra Esports'] + r_bias_df['Gaimin Gladiators'] + r_bias_df['OG']) / r_bias_df['MATCHES_PREDICTED'] * 18 / 4\n",
    "r_bias_df['EEU_BIAS'] = (r_bias_df['9 Pandas'] + r_bias_df['Team Spirit'] + r_bias_df['BetBoom Team']) / r_bias_df['MATCHES_PREDICTED'] * 18 / 3\n",
    "r_bias_df['SEA_BIAS'] = (r_bias_df['Talon Esports'] + r_bias_df['Execration'] + r_bias_df['Team SMG']) / r_bias_df['MATCHES_PREDICTED'] * 18 / 3\n",
    "r_bias_df['CN_BIAS'] = (r_bias_df['Xtreme Gaming'] + r_bias_df['PSG.LGD'] + r_bias_df['Invictus Gaming'] + r_bias_df['Team Aster']) / r_bias_df['MATCHES_PREDICTED'] * 18 / 4"
   ]
  },
  {
   "cell_type": "code",
   "execution_count": 10,
   "id": "2ead0f0f-d011-4dd7-bb5b-aee1327c5a3e",
   "metadata": {},
   "outputs": [
    {
     "data": {
      "text/html": [
       "<div>\n",
       "<style scoped>\n",
       "    .dataframe tbody tr th:only-of-type {\n",
       "        vertical-align: middle;\n",
       "    }\n",
       "\n",
       "    .dataframe tbody tr th {\n",
       "        vertical-align: top;\n",
       "    }\n",
       "\n",
       "    .dataframe thead th {\n",
       "        text-align: right;\n",
       "    }\n",
       "</style>\n",
       "<table border=\"1\" class=\"dataframe\">\n",
       "  <thead>\n",
       "    <tr style=\"text-align: right;\">\n",
       "      <th></th>\n",
       "      <th>DAYS_RESPONDED</th>\n",
       "      <th>MATCHES_PREDICTED</th>\n",
       "      <th>9 Pandas</th>\n",
       "      <th>Beastcoast</th>\n",
       "      <th>BetBoom Team</th>\n",
       "      <th>Evil Geniuses</th>\n",
       "      <th>Execration</th>\n",
       "      <th>Gaimin Gladiators</th>\n",
       "      <th>Invictus Gaming</th>\n",
       "      <th>OG</th>\n",
       "      <th>...</th>\n",
       "      <th>Team SMG</th>\n",
       "      <th>Team Spirit</th>\n",
       "      <th>Tundra Esports</th>\n",
       "      <th>Xtreme Gaming</th>\n",
       "      <th>NA_BIAS</th>\n",
       "      <th>SA_BIAS</th>\n",
       "      <th>WEU_BIAS</th>\n",
       "      <th>EEU_BIAS</th>\n",
       "      <th>SEA_BIAS</th>\n",
       "      <th>CN_BIAS</th>\n",
       "    </tr>\n",
       "  </thead>\n",
       "  <tbody>\n",
       "    <tr>\n",
       "      <th>count</th>\n",
       "      <td>40.000000</td>\n",
       "      <td>40.000000</td>\n",
       "      <td>40.000000</td>\n",
       "      <td>40.000000</td>\n",
       "      <td>40.000000</td>\n",
       "      <td>40.000000</td>\n",
       "      <td>40.000000</td>\n",
       "      <td>40.00000</td>\n",
       "      <td>40.000000</td>\n",
       "      <td>40.000000</td>\n",
       "      <td>...</td>\n",
       "      <td>40.000000</td>\n",
       "      <td>40.000000</td>\n",
       "      <td>40.00000</td>\n",
       "      <td>40.000000</td>\n",
       "      <td>39.000000</td>\n",
       "      <td>39.000000</td>\n",
       "      <td>39.000000</td>\n",
       "      <td>39.000000</td>\n",
       "      <td>39.000000</td>\n",
       "      <td>39.000000</td>\n",
       "    </tr>\n",
       "    <tr>\n",
       "      <th>mean</th>\n",
       "      <td>4.050000</td>\n",
       "      <td>59.400000</td>\n",
       "      <td>2.800000</td>\n",
       "      <td>3.312500</td>\n",
       "      <td>3.125000</td>\n",
       "      <td>3.300000</td>\n",
       "      <td>1.012500</td>\n",
       "      <td>5.42500</td>\n",
       "      <td>1.850000</td>\n",
       "      <td>4.087500</td>\n",
       "      <td>...</td>\n",
       "      <td>1.475000</td>\n",
       "      <td>4.212500</td>\n",
       "      <td>4.75000</td>\n",
       "      <td>2.425000</td>\n",
       "      <td>1.143258</td>\n",
       "      <td>1.047991</td>\n",
       "      <td>1.462540</td>\n",
       "      <td>1.015339</td>\n",
       "      <td>0.475694</td>\n",
       "      <td>0.823561</td>\n",
       "    </tr>\n",
       "    <tr>\n",
       "      <th>std</th>\n",
       "      <td>1.395046</td>\n",
       "      <td>19.248443</td>\n",
       "      <td>1.399634</td>\n",
       "      <td>1.299346</td>\n",
       "      <td>1.259579</td>\n",
       "      <td>1.362501</td>\n",
       "      <td>0.828092</td>\n",
       "      <td>2.10783</td>\n",
       "      <td>1.038984</td>\n",
       "      <td>1.789884</td>\n",
       "      <td>...</td>\n",
       "      <td>0.823921</td>\n",
       "      <td>1.811245</td>\n",
       "      <td>1.94475</td>\n",
       "      <td>1.525636</td>\n",
       "      <td>0.226736</td>\n",
       "      <td>0.291891</td>\n",
       "      <td>0.176030</td>\n",
       "      <td>0.198710</td>\n",
       "      <td>0.143381</td>\n",
       "      <td>0.156987</td>\n",
       "    </tr>\n",
       "    <tr>\n",
       "      <th>min</th>\n",
       "      <td>0.000000</td>\n",
       "      <td>0.000000</td>\n",
       "      <td>0.000000</td>\n",
       "      <td>0.000000</td>\n",
       "      <td>0.000000</td>\n",
       "      <td>0.000000</td>\n",
       "      <td>0.000000</td>\n",
       "      <td>0.00000</td>\n",
       "      <td>0.000000</td>\n",
       "      <td>0.000000</td>\n",
       "      <td>...</td>\n",
       "      <td>0.000000</td>\n",
       "      <td>0.000000</td>\n",
       "      <td>0.00000</td>\n",
       "      <td>0.000000</td>\n",
       "      <td>0.843750</td>\n",
       "      <td>0.500000</td>\n",
       "      <td>1.000000</td>\n",
       "      <td>0.562500</td>\n",
       "      <td>0.160714</td>\n",
       "      <td>0.441964</td>\n",
       "    </tr>\n",
       "    <tr>\n",
       "      <th>25%</th>\n",
       "      <td>3.750000</td>\n",
       "      <td>54.000000</td>\n",
       "      <td>1.875000</td>\n",
       "      <td>2.500000</td>\n",
       "      <td>2.000000</td>\n",
       "      <td>2.500000</td>\n",
       "      <td>0.500000</td>\n",
       "      <td>4.50000</td>\n",
       "      <td>1.000000</td>\n",
       "      <td>3.000000</td>\n",
       "      <td>...</td>\n",
       "      <td>0.875000</td>\n",
       "      <td>3.000000</td>\n",
       "      <td>3.75000</td>\n",
       "      <td>1.500000</td>\n",
       "      <td>0.992188</td>\n",
       "      <td>0.879464</td>\n",
       "      <td>1.351562</td>\n",
       "      <td>0.838542</td>\n",
       "      <td>0.375000</td>\n",
       "      <td>0.777344</td>\n",
       "    </tr>\n",
       "    <tr>\n",
       "      <th>50%</th>\n",
       "      <td>5.000000</td>\n",
       "      <td>72.000000</td>\n",
       "      <td>3.000000</td>\n",
       "      <td>3.000000</td>\n",
       "      <td>3.000000</td>\n",
       "      <td>3.500000</td>\n",
       "      <td>0.750000</td>\n",
       "      <td>6.00000</td>\n",
       "      <td>1.750000</td>\n",
       "      <td>4.500000</td>\n",
       "      <td>...</td>\n",
       "      <td>1.500000</td>\n",
       "      <td>4.500000</td>\n",
       "      <td>5.00000</td>\n",
       "      <td>2.500000</td>\n",
       "      <td>1.125000</td>\n",
       "      <td>1.000000</td>\n",
       "      <td>1.446429</td>\n",
       "      <td>1.041667</td>\n",
       "      <td>0.468750</td>\n",
       "      <td>0.843750</td>\n",
       "    </tr>\n",
       "    <tr>\n",
       "      <th>75%</th>\n",
       "      <td>5.000000</td>\n",
       "      <td>72.000000</td>\n",
       "      <td>4.000000</td>\n",
       "      <td>4.000000</td>\n",
       "      <td>4.000000</td>\n",
       "      <td>4.500000</td>\n",
       "      <td>1.500000</td>\n",
       "      <td>7.00000</td>\n",
       "      <td>2.500000</td>\n",
       "      <td>5.125000</td>\n",
       "      <td>...</td>\n",
       "      <td>2.000000</td>\n",
       "      <td>5.500000</td>\n",
       "      <td>6.50000</td>\n",
       "      <td>3.000000</td>\n",
       "      <td>1.200335</td>\n",
       "      <td>1.218750</td>\n",
       "      <td>1.600446</td>\n",
       "      <td>1.145833</td>\n",
       "      <td>0.583333</td>\n",
       "      <td>0.925781</td>\n",
       "    </tr>\n",
       "    <tr>\n",
       "      <th>max</th>\n",
       "      <td>5.000000</td>\n",
       "      <td>72.000000</td>\n",
       "      <td>5.500000</td>\n",
       "      <td>6.500000</td>\n",
       "      <td>6.000000</td>\n",
       "      <td>5.500000</td>\n",
       "      <td>3.500000</td>\n",
       "      <td>8.00000</td>\n",
       "      <td>4.000000</td>\n",
       "      <td>7.500000</td>\n",
       "      <td>...</td>\n",
       "      <td>3.000000</td>\n",
       "      <td>6.500000</td>\n",
       "      <td>7.50000</td>\n",
       "      <td>6.000000</td>\n",
       "      <td>1.687500</td>\n",
       "      <td>1.968750</td>\n",
       "      <td>1.757812</td>\n",
       "      <td>1.375000</td>\n",
       "      <td>0.791667</td>\n",
       "      <td>1.218750</td>\n",
       "    </tr>\n",
       "  </tbody>\n",
       "</table>\n",
       "<p>8 rows × 26 columns</p>\n",
       "</div>"
      ],
      "text/plain": [
       "       DAYS_RESPONDED  MATCHES_PREDICTED   9 Pandas  Beastcoast  BetBoom Team  \\\n",
       "count       40.000000          40.000000  40.000000   40.000000     40.000000   \n",
       "mean         4.050000          59.400000   2.800000    3.312500      3.125000   \n",
       "std          1.395046          19.248443   1.399634    1.299346      1.259579   \n",
       "min          0.000000           0.000000   0.000000    0.000000      0.000000   \n",
       "25%          3.750000          54.000000   1.875000    2.500000      2.000000   \n",
       "50%          5.000000          72.000000   3.000000    3.000000      3.000000   \n",
       "75%          5.000000          72.000000   4.000000    4.000000      4.000000   \n",
       "max          5.000000          72.000000   5.500000    6.500000      6.000000   \n",
       "\n",
       "       Evil Geniuses  Execration  Gaimin Gladiators  Invictus Gaming  \\\n",
       "count      40.000000   40.000000           40.00000        40.000000   \n",
       "mean        3.300000    1.012500            5.42500         1.850000   \n",
       "std         1.362501    0.828092            2.10783         1.038984   \n",
       "min         0.000000    0.000000            0.00000         0.000000   \n",
       "25%         2.500000    0.500000            4.50000         1.000000   \n",
       "50%         3.500000    0.750000            6.00000         1.750000   \n",
       "75%         4.500000    1.500000            7.00000         2.500000   \n",
       "max         5.500000    3.500000            8.00000         4.000000   \n",
       "\n",
       "              OG  ...   Team SMG  Team Spirit  Tundra Esports  Xtreme Gaming  \\\n",
       "count  40.000000  ...  40.000000    40.000000        40.00000      40.000000   \n",
       "mean    4.087500  ...   1.475000     4.212500         4.75000       2.425000   \n",
       "std     1.789884  ...   0.823921     1.811245         1.94475       1.525636   \n",
       "min     0.000000  ...   0.000000     0.000000         0.00000       0.000000   \n",
       "25%     3.000000  ...   0.875000     3.000000         3.75000       1.500000   \n",
       "50%     4.500000  ...   1.500000     4.500000         5.00000       2.500000   \n",
       "75%     5.125000  ...   2.000000     5.500000         6.50000       3.000000   \n",
       "max     7.500000  ...   3.000000     6.500000         7.50000       6.000000   \n",
       "\n",
       "         NA_BIAS    SA_BIAS   WEU_BIAS   EEU_BIAS   SEA_BIAS    CN_BIAS  \n",
       "count  39.000000  39.000000  39.000000  39.000000  39.000000  39.000000  \n",
       "mean    1.143258   1.047991   1.462540   1.015339   0.475694   0.823561  \n",
       "std     0.226736   0.291891   0.176030   0.198710   0.143381   0.156987  \n",
       "min     0.843750   0.500000   1.000000   0.562500   0.160714   0.441964  \n",
       "25%     0.992188   0.879464   1.351562   0.838542   0.375000   0.777344  \n",
       "50%     1.125000   1.000000   1.446429   1.041667   0.468750   0.843750  \n",
       "75%     1.200335   1.218750   1.600446   1.145833   0.583333   0.925781  \n",
       "max     1.687500   1.968750   1.757812   1.375000   0.791667   1.218750  \n",
       "\n",
       "[8 rows x 26 columns]"
      ]
     },
     "execution_count": 10,
     "metadata": {},
     "output_type": "execute_result"
    }
   ],
   "source": [
    "r_bias_df.describe()"
   ]
  },
  {
   "cell_type": "code",
   "execution_count": 16,
   "id": "33f4f3d7-4e93-4713-b814-b2b084b6c022",
   "metadata": {},
   "outputs": [],
   "source": [
    "r_bias_df.to_parquet('./results/esl_berlin_group_biases.gzip', compression = 'gzip')\n",
    "r_bias_df.to_csv('./results/esl_berlin_group_biases.csv')"
   ]
  },
  {
   "cell_type": "code",
   "execution_count": 15,
   "id": "4bb75ecf-521b-4478-801b-5e1c64112bfb",
   "metadata": {},
   "outputs": [
    {
     "data": {
      "application/vnd.plotly.v1+json": {
       "config": {
        "plotlyServerURL": "https://plot.ly"
       },
       "data": [
        {
         "hovertemplate": "DISCORD_NAME=????<br>NA_BIAS=%{x}<br>WEU_BIAS=%{y}<br>CN_BIAS=%{z}<extra></extra>",
         "legendgroup": "????",
         "marker": {
          "color": "rgb(76,114,176)",
          "symbol": "circle"
         },
         "mode": "markers",
         "name": "????",
         "scene": "scene",
         "showlegend": true,
         "type": "scatter3d",
         "visible": "legendonly",
         "x": [
          null
         ],
         "y": [
          null
         ],
         "z": [
          null
         ]
        },
        {
         "hovertemplate": "DISCORD_NAME=Amity<br>NA_BIAS=%{x}<br>WEU_BIAS=%{y}<br>CN_BIAS=%{z}<extra></extra>",
         "legendgroup": "Amity",
         "marker": {
          "color": "rgb(221,132,82)",
          "symbol": "circle"
         },
         "mode": "markers",
         "name": "Amity",
         "scene": "scene",
         "showlegend": true,
         "type": "scatter3d",
         "visible": "legendonly",
         "x": [
          1
         ],
         "y": [
          1.4375
         ],
         "z": [
          0.78125
         ]
        },
        {
         "hovertemplate": "DISCORD_NAME=Asway<br>NA_BIAS=%{x}<br>WEU_BIAS=%{y}<br>CN_BIAS=%{z}<extra></extra>",
         "legendgroup": "Asway",
         "marker": {
          "color": "rgb(85,168,104)",
          "symbol": "circle"
         },
         "mode": "markers",
         "name": "Asway",
         "scene": "scene",
         "showlegend": true,
         "type": "scatter3d",
         "visible": "legendonly",
         "x": [
          1.0625
         ],
         "y": [
          1.6875
         ],
         "z": [
          1
         ]
        },
        {
         "hovertemplate": "DISCORD_NAME=Bammboo<br>NA_BIAS=%{x}<br>WEU_BIAS=%{y}<br>CN_BIAS=%{z}<extra></extra>",
         "legendgroup": "Bammboo",
         "marker": {
          "color": "rgb(196,78,82)",
          "symbol": "circle"
         },
         "mode": "markers",
         "name": "Bammboo",
         "scene": "scene",
         "showlegend": true,
         "type": "scatter3d",
         "visible": "legendonly",
         "x": [
          1.625
         ],
         "y": [
          1
         ],
         "z": [
          0.96875
         ]
        },
        {
         "hovertemplate": "DISCORD_NAME=BeefBomber<br>NA_BIAS=%{x}<br>WEU_BIAS=%{y}<br>CN_BIAS=%{z}<extra></extra>",
         "legendgroup": "BeefBomber",
         "marker": {
          "color": "rgb(129,114,179)",
          "symbol": "circle"
         },
         "mode": "markers",
         "name": "BeefBomber",
         "scene": "scene",
         "showlegend": true,
         "type": "scatter3d",
         "visible": "legendonly",
         "x": [
          1.6875
         ],
         "y": [
          1.265625
         ],
         "z": [
          0.84375
         ]
        },
        {
         "hovertemplate": "DISCORD_NAME=Bridge(4)Burner<br>NA_BIAS=%{x}<br>WEU_BIAS=%{y}<br>CN_BIAS=%{z}<extra></extra>",
         "legendgroup": "Bridge(4)Burner",
         "marker": {
          "color": "rgb(147,120,96)",
          "symbol": "circle"
         },
         "mode": "markers",
         "name": "Bridge(4)Burner",
         "scene": "scene",
         "showlegend": true,
         "type": "scatter3d",
         "visible": "legendonly",
         "x": [
          1
         ],
         "y": [
          1.40625
         ],
         "z": [
          0.78125
         ]
        },
        {
         "hovertemplate": "DISCORD_NAME=Cakes<br>NA_BIAS=%{x}<br>WEU_BIAS=%{y}<br>CN_BIAS=%{z}<extra></extra>",
         "legendgroup": "Cakes",
         "marker": {
          "color": "rgb(218,139,195)",
          "symbol": "circle"
         },
         "mode": "markers",
         "name": "Cakes",
         "scene": "scene",
         "showlegend": true,
         "type": "scatter3d",
         "visible": "legendonly",
         "x": [
          1.546875
         ],
         "y": [
          1.30078125
         ],
         "z": [
          0.87890625
         ]
        },
        {
         "hovertemplate": "DISCORD_NAME=DAVID CHANG FANBOY<br>NA_BIAS=%{x}<br>WEU_BIAS=%{y}<br>CN_BIAS=%{z}<extra></extra>",
         "legendgroup": "DAVID CHANG FANBOY",
         "marker": {
          "color": "rgb(140,140,140)",
          "symbol": "circle"
         },
         "mode": "markers",
         "name": "DAVID CHANG FANBOY",
         "scene": "scene",
         "showlegend": true,
         "type": "scatter3d",
         "visible": "legendonly",
         "x": [
          0.9375
         ],
         "y": [
          1.734375
         ],
         "z": [
          0.65625
         ]
        },
        {
         "hovertemplate": "DISCORD_NAME=Doxs<br>NA_BIAS=%{x}<br>WEU_BIAS=%{y}<br>CN_BIAS=%{z}<extra></extra>",
         "legendgroup": "Doxs",
         "marker": {
          "color": "rgb(204,185,116)",
          "symbol": "circle"
         },
         "mode": "markers",
         "name": "Doxs",
         "scene": "scene",
         "showlegend": true,
         "type": "scatter3d",
         "visible": "legendonly",
         "x": [
          0.84375
         ],
         "y": [
          1.359375
         ],
         "z": [
          0.9375
         ]
        },
        {
         "hovertemplate": "DISCORD_NAME=EgoErc<br>NA_BIAS=%{x}<br>WEU_BIAS=%{y}<br>CN_BIAS=%{z}<extra></extra>",
         "legendgroup": "EgoErc",
         "marker": {
          "color": "rgb(100,181,205)",
          "symbol": "circle"
         },
         "mode": "markers",
         "name": "EgoErc",
         "scene": "scene",
         "showlegend": true,
         "type": "scatter3d",
         "visible": "legendonly",
         "x": [
          0.9375
         ],
         "y": [
          1.5
         ],
         "z": [
          0.8125
         ]
        },
        {
         "hovertemplate": "DISCORD_NAME=Essex<br>NA_BIAS=%{x}<br>WEU_BIAS=%{y}<br>CN_BIAS=%{z}<extra></extra>",
         "legendgroup": "Essex",
         "marker": {
          "color": "rgb(76,114,176)",
          "symbol": "circle"
         },
         "mode": "markers",
         "name": "Essex",
         "scene": "scene",
         "showlegend": true,
         "type": "scatter3d",
         "visible": "legendonly",
         "x": [
          1.125
         ],
         "y": [
          1.359375
         ],
         "z": [
          0.796875
         ]
        },
        {
         "hovertemplate": "DISCORD_NAME=GIRbazk<br>NA_BIAS=%{x}<br>WEU_BIAS=%{y}<br>CN_BIAS=%{z}<extra></extra>",
         "legendgroup": "GIRbazk",
         "marker": {
          "color": "rgb(221,132,82)",
          "symbol": "circle"
         },
         "mode": "markers",
         "name": "GIRbazk",
         "scene": "scene",
         "showlegend": true,
         "type": "scatter3d",
         "visible": "legendonly",
         "x": [
          1.125
         ],
         "y": [
          1.6071428571428572
         ],
         "z": [
          0.4419642857142857
         ]
        },
        {
         "hovertemplate": "DISCORD_NAME=GMT<br>NA_BIAS=%{x}<br>WEU_BIAS=%{y}<br>CN_BIAS=%{z}<extra></extra>",
         "legendgroup": "GMT",
         "marker": {
          "color": "rgb(85,168,104)",
          "symbol": "circle"
         },
         "mode": "markers",
         "name": "GMT",
         "scene": "scene",
         "showlegend": true,
         "type": "scatter3d",
         "visible": "legendonly",
         "x": [
          1.3660714285714284
         ],
         "y": [
          1.4464285714285716
         ],
         "z": [
          1.0044642857142858
         ]
        },
        {
         "hovertemplate": "DISCORD_NAME=Gimpyjoe<br>NA_BIAS=%{x}<br>WEU_BIAS=%{y}<br>CN_BIAS=%{z}<extra></extra>",
         "legendgroup": "Gimpyjoe",
         "marker": {
          "color": "rgb(196,78,82)",
          "symbol": "circle"
         },
         "mode": "markers",
         "name": "Gimpyjoe",
         "scene": "scene",
         "showlegend": true,
         "type": "scatter3d",
         "visible": "legendonly",
         "x": [
          1
         ],
         "y": [
          1.46875
         ],
         "z": [
          0.875
         ]
        },
        {
         "hovertemplate": "DISCORD_NAME=Kit<br>NA_BIAS=%{x}<br>WEU_BIAS=%{y}<br>CN_BIAS=%{z}<extra></extra>",
         "legendgroup": "Kit",
         "marker": {
          "color": "rgb(129,114,179)",
          "symbol": "circle"
         },
         "mode": "markers",
         "name": "Kit",
         "scene": "scene",
         "showlegend": true,
         "type": "scatter3d",
         "visible": "legendonly",
         "x": [
          1.0625
         ],
         "y": [
          1.375
         ],
         "z": [
          0.9375
         ]
        },
        {
         "hovertemplate": "DISCORD_NAME=MonoMithras<br>NA_BIAS=%{x}<br>WEU_BIAS=%{y}<br>CN_BIAS=%{z}<extra></extra>",
         "legendgroup": "MonoMithras",
         "marker": {
          "color": "rgb(147,120,96)",
          "symbol": "circle"
         },
         "mode": "markers",
         "name": "MonoMithras",
         "scene": "scene",
         "showlegend": true,
         "type": "scatter3d",
         "visible": "legendonly",
         "x": [
          1.1953125
         ],
         "y": [
          1.72265625
         ],
         "z": [
          0.80859375
         ]
        },
        {
         "hovertemplate": "DISCORD_NAME=OXD<br>NA_BIAS=%{x}<br>WEU_BIAS=%{y}<br>CN_BIAS=%{z}<extra></extra>",
         "legendgroup": "OXD",
         "marker": {
          "color": "rgb(218,139,195)",
          "symbol": "circle"
         },
         "mode": "markers",
         "name": "OXD",
         "scene": "scene",
         "showlegend": true,
         "type": "scatter3d",
         "visible": "legendonly",
         "x": [
          0.9375
         ],
         "y": [
          1.4375
         ],
         "z": [
          0.84375
         ]
        },
        {
         "hovertemplate": "DISCORD_NAME=Powder<br>NA_BIAS=%{x}<br>WEU_BIAS=%{y}<br>CN_BIAS=%{z}<extra></extra>",
         "legendgroup": "Powder",
         "marker": {
          "color": "rgb(140,140,140)",
          "symbol": "circle"
         },
         "mode": "markers",
         "name": "Powder",
         "scene": "scene",
         "showlegend": true,
         "type": "scatter3d",
         "visible": "legendonly",
         "x": [
          0.875
         ],
         "y": [
          1.3125
         ],
         "z": [
          0.84375
         ]
        },
        {
         "hovertemplate": "DISCORD_NAME=PriscillAAH<br>NA_BIAS=%{x}<br>WEU_BIAS=%{y}<br>CN_BIAS=%{z}<extra></extra>",
         "legendgroup": "PriscillAAH",
         "marker": {
          "color": "rgb(204,185,116)",
          "symbol": "circle"
         },
         "mode": "markers",
         "name": "PriscillAAH",
         "scene": "scene",
         "showlegend": true,
         "type": "scatter3d",
         "visible": "legendonly",
         "x": [
          1.2053571428571428
         ],
         "y": [
          1.6875
         ],
         "z": [
          0.6830357142857142
         ]
        },
        {
         "hovertemplate": "DISCORD_NAME=Puppets<br>NA_BIAS=%{x}<br>WEU_BIAS=%{y}<br>CN_BIAS=%{z}<extra></extra>",
         "legendgroup": "Puppets",
         "marker": {
          "color": "rgb(100,181,205)",
          "symbol": "circle"
         },
         "mode": "markers",
         "name": "Puppets",
         "scene": "scene",
         "showlegend": true,
         "type": "scatter3d",
         "visible": true,
         "x": [
          1.125
         ],
         "y": [
          1.4464285714285716
         ],
         "z": [
          0.6026785714285714
         ]
        },
        {
         "hovertemplate": "DISCORD_NAME=Rucket<br>NA_BIAS=%{x}<br>WEU_BIAS=%{y}<br>CN_BIAS=%{z}<extra></extra>",
         "legendgroup": "Rucket",
         "marker": {
          "color": "rgb(76,114,176)",
          "symbol": "circle"
         },
         "mode": "markers",
         "name": "Rucket",
         "scene": "scene",
         "showlegend": true,
         "type": "scatter3d",
         "visible": "legendonly",
         "x": [
          0.9375
         ],
         "y": [
          1.375
         ],
         "z": [
          0.84375
         ]
        },
        {
         "hovertemplate": "DISCORD_NAME=Shap Daddy Happenin<br>NA_BIAS=%{x}<br>WEU_BIAS=%{y}<br>CN_BIAS=%{z}<extra></extra>",
         "legendgroup": "Shap Daddy Happenin",
         "marker": {
          "color": "rgb(221,132,82)",
          "symbol": "circle"
         },
         "mode": "markers",
         "name": "Shap Daddy Happenin",
         "scene": "scene",
         "showlegend": true,
         "type": "scatter3d",
         "visible": "legendonly",
         "x": [
          0.9375
         ],
         "y": [
          1.34375
         ],
         "z": [
          0.71875
         ]
        },
        {
         "hovertemplate": "DISCORD_NAME=Sidd<br>NA_BIAS=%{x}<br>WEU_BIAS=%{y}<br>CN_BIAS=%{z}<extra></extra>",
         "legendgroup": "Sidd",
         "marker": {
          "color": "rgb(85,168,104)",
          "symbol": "circle"
         },
         "mode": "markers",
         "name": "Sidd",
         "scene": "scene",
         "showlegend": true,
         "type": "scatter3d",
         "visible": "legendonly",
         "x": [
          1.5
         ],
         "y": [
          1.71875
         ],
         "z": [
          0.46875
         ]
        },
        {
         "hovertemplate": "DISCORD_NAME=SliceofToast<br>NA_BIAS=%{x}<br>WEU_BIAS=%{y}<br>CN_BIAS=%{z}<extra></extra>",
         "legendgroup": "SliceofToast",
         "marker": {
          "color": "rgb(196,78,82)",
          "symbol": "circle"
         },
         "mode": "markers",
         "name": "SliceofToast",
         "scene": "scene",
         "showlegend": true,
         "type": "scatter3d",
         "visible": "legendonly",
         "x": [
          1.6875
         ],
         "y": [
          1.3359375
         ],
         "z": [
          0.7734375
         ]
        },
        {
         "hovertemplate": "DISCORD_NAME=Super<br>NA_BIAS=%{x}<br>WEU_BIAS=%{y}<br>CN_BIAS=%{z}<extra></extra>",
         "legendgroup": "Super",
         "marker": {
          "color": "rgb(129,114,179)",
          "symbol": "circle"
         },
         "mode": "markers",
         "name": "Super",
         "scene": "scene",
         "showlegend": true,
         "type": "scatter3d",
         "visible": "legendonly",
         "x": [
          1
         ],
         "y": [
          1.5
         ],
         "z": [
          0.84375
         ]
        },
        {
         "hovertemplate": "DISCORD_NAME=Tetsuya<br>NA_BIAS=%{x}<br>WEU_BIAS=%{y}<br>CN_BIAS=%{z}<extra></extra>",
         "legendgroup": "Tetsuya",
         "marker": {
          "color": "rgb(147,120,96)",
          "symbol": "circle"
         },
         "mode": "markers",
         "name": "Tetsuya",
         "scene": "scene",
         "showlegend": true,
         "type": "scatter3d",
         "visible": "legendonly",
         "x": [
          0.984375
         ],
         "y": [
          1.3359375
         ],
         "z": [
          0.984375
         ]
        },
        {
         "hovertemplate": "DISCORD_NAME=The_Blackbird<br>NA_BIAS=%{x}<br>WEU_BIAS=%{y}<br>CN_BIAS=%{z}<extra></extra>",
         "legendgroup": "The_Blackbird",
         "marker": {
          "color": "rgb(218,139,195)",
          "symbol": "circle"
         },
         "mode": "markers",
         "name": "The_Blackbird",
         "scene": "scene",
         "showlegend": true,
         "type": "scatter3d",
         "visible": "legendonly",
         "x": [
          1
         ],
         "y": [
          1.5
         ],
         "z": [
          0.71875
         ]
        },
        {
         "hovertemplate": "DISCORD_NAME=Tino_<br>NA_BIAS=%{x}<br>WEU_BIAS=%{y}<br>CN_BIAS=%{z}<extra></extra>",
         "legendgroup": "Tino_",
         "marker": {
          "color": "rgb(140,140,140)",
          "symbol": "circle"
         },
         "mode": "markers",
         "name": "Tino_",
         "scene": "scene",
         "showlegend": true,
         "type": "scatter3d",
         "visible": "legendonly",
         "x": [
          1.1875
         ],
         "y": [
          1.59375
         ],
         "z": [
          0.59375
         ]
        },
        {
         "hovertemplate": "DISCORD_NAME=Vermilion<br>NA_BIAS=%{x}<br>WEU_BIAS=%{y}<br>CN_BIAS=%{z}<extra></extra>",
         "legendgroup": "Vermilion",
         "marker": {
          "color": "rgb(204,185,116)",
          "symbol": "circle"
         },
         "mode": "markers",
         "name": "Vermilion",
         "scene": "scene",
         "showlegend": true,
         "type": "scatter3d",
         "visible": "legendonly",
         "x": [
          1.125
         ],
         "y": [
          1.65625
         ],
         "z": [
          0.8125
         ]
        },
        {
         "hovertemplate": "DISCORD_NAME=Vuvuzela Virtuoso Hans Rudolph<br>NA_BIAS=%{x}<br>WEU_BIAS=%{y}<br>CN_BIAS=%{z}<extra></extra>",
         "legendgroup": "Vuvuzela Virtuoso Hans Rudolph",
         "marker": {
          "color": "rgb(100,181,205)",
          "symbol": "circle"
         },
         "mode": "markers",
         "name": "Vuvuzela Virtuoso Hans Rudolph",
         "scene": "scene",
         "showlegend": true,
         "type": "scatter3d",
         "visible": "legendonly",
         "x": [
          0.9375
         ],
         "y": [
          1.53125
         ],
         "z": [
          1
         ]
        },
        {
         "hovertemplate": "DISCORD_NAME=Waltz<br>NA_BIAS=%{x}<br>WEU_BIAS=%{y}<br>CN_BIAS=%{z}<extra></extra>",
         "legendgroup": "Waltz",
         "marker": {
          "color": "rgb(76,114,176)",
          "symbol": "circle"
         },
         "mode": "markers",
         "name": "Waltz",
         "scene": "scene",
         "showlegend": true,
         "type": "scatter3d",
         "visible": "legendonly",
         "x": [
          1.1953125
         ],
         "y": [
          1.7578125
         ],
         "z": [
          0.94921875
         ]
        },
        {
         "hovertemplate": "DISCORD_NAME=WritingFates<br>NA_BIAS=%{x}<br>WEU_BIAS=%{y}<br>CN_BIAS=%{z}<extra></extra>",
         "legendgroup": "WritingFates",
         "marker": {
          "color": "rgb(221,132,82)",
          "symbol": "circle"
         },
         "mode": "markers",
         "name": "WritingFates",
         "scene": "scene",
         "showlegend": true,
         "type": "scatter3d",
         "visible": "legendonly",
         "x": [
          0.9375
         ],
         "y": [
          1.53125
         ],
         "z": [
          0.8125
         ]
        },
        {
         "hovertemplate": "DISCORD_NAME=Xan<br>NA_BIAS=%{x}<br>WEU_BIAS=%{y}<br>CN_BIAS=%{z}<extra></extra>",
         "legendgroup": "Xan",
         "marker": {
          "color": "rgb(85,168,104)",
          "symbol": "circle"
         },
         "mode": "markers",
         "name": "Xan",
         "scene": "scene",
         "showlegend": true,
         "type": "scatter3d",
         "visible": "legendonly",
         "x": [
          1.40625
         ],
         "y": [
          1.40625
         ],
         "z": [
          0.5625
         ]
        },
        {
         "hovertemplate": "DISCORD_NAME=[/dev/grohl]<br>NA_BIAS=%{x}<br>WEU_BIAS=%{y}<br>CN_BIAS=%{z}<extra></extra>",
         "legendgroup": "[/dev/grohl]",
         "marker": {
          "color": "rgb(196,78,82)",
          "symbol": "circle"
         },
         "mode": "markers",
         "name": "[/dev/grohl]",
         "scene": "scene",
         "showlegend": true,
         "type": "scatter3d",
         "visible": "legendonly",
         "x": [
          1.125
         ],
         "y": [
          1.65625
         ],
         "z": [
          0.78125
         ]
        },
        {
         "hovertemplate": "DISCORD_NAME=cuddlz<br>NA_BIAS=%{x}<br>WEU_BIAS=%{y}<br>CN_BIAS=%{z}<extra></extra>",
         "legendgroup": "cuddlz",
         "marker": {
          "color": "rgb(129,114,179)",
          "symbol": "circle"
         },
         "mode": "markers",
         "name": "cuddlz",
         "scene": "scene",
         "showlegend": true,
         "type": "scatter3d",
         "visible": "legendonly",
         "x": [
          1.25
         ],
         "y": [
          1.71875
         ],
         "z": [
          0.875
         ]
        },
        {
         "hovertemplate": "DISCORD_NAME=eonden<br>NA_BIAS=%{x}<br>WEU_BIAS=%{y}<br>CN_BIAS=%{z}<extra></extra>",
         "legendgroup": "eonden",
         "marker": {
          "color": "rgb(147,120,96)",
          "symbol": "circle"
         },
         "mode": "markers",
         "name": "eonden",
         "scene": "scene",
         "showlegend": true,
         "type": "scatter3d",
         "visible": "legendonly",
         "x": [
          1.0625
         ],
         "y": [
          1.46875
         ],
         "z": [
          0.84375
         ]
        },
        {
         "hovertemplate": "DISCORD_NAME=oppressive_hat<br>NA_BIAS=%{x}<br>WEU_BIAS=%{y}<br>CN_BIAS=%{z}<extra></extra>",
         "legendgroup": "oppressive_hat",
         "marker": {
          "color": "rgb(218,139,195)",
          "symbol": "circle"
         },
         "mode": "markers",
         "name": "oppressive_hat",
         "scene": "scene",
         "showlegend": true,
         "type": "scatter3d",
         "visible": "legendonly",
         "x": [
          1
         ],
         "y": [
          1.375
         ],
         "z": [
          1.0625
         ]
        },
        {
         "hovertemplate": "DISCORD_NAME=pwningdude<br>NA_BIAS=%{x}<br>WEU_BIAS=%{y}<br>CN_BIAS=%{z}<extra></extra>",
         "legendgroup": "pwningdude",
         "marker": {
          "color": "rgb(140,140,140)",
          "symbol": "circle"
         },
         "mode": "markers",
         "name": "pwningdude",
         "scene": "scene",
         "showlegend": true,
         "type": "scatter3d",
         "visible": "legendonly",
         "x": [
          1.40625
         ],
         "y": [
          1.125
         ],
         "z": [
          0.84375
         ]
        },
        {
         "hovertemplate": "DISCORD_NAME=seebs<br>NA_BIAS=%{x}<br>WEU_BIAS=%{y}<br>CN_BIAS=%{z}<extra></extra>",
         "legendgroup": "seebs",
         "marker": {
          "color": "rgb(204,185,116)",
          "symbol": "circle"
         },
         "mode": "markers",
         "name": "seebs",
         "scene": "scene",
         "showlegend": true,
         "type": "scatter3d",
         "visible": "legendonly",
         "x": [
          1.125
         ],
         "y": [
          1.3359375
         ],
         "z": [
          0.9140625
         ]
        },
        {
         "hovertemplate": "DISCORD_NAME=srinjit_v<br>NA_BIAS=%{x}<br>WEU_BIAS=%{y}<br>CN_BIAS=%{z}<extra></extra>",
         "legendgroup": "srinjit_v",
         "marker": {
          "color": "rgb(100,181,205)",
          "symbol": "circle"
         },
         "mode": "markers",
         "name": "srinjit_v",
         "scene": "scene",
         "showlegend": true,
         "type": "scatter3d",
         "visible": "legendonly",
         "x": [
          1.125
         ],
         "y": [
          1.21875
         ],
         "z": [
          1.21875
         ]
        }
       ],
       "layout": {
        "autosize": true,
        "legend": {
         "title": {
          "text": "DISCORD_NAME"
         },
         "tracegroupgap": 0
        },
        "margin": {
         "t": 60
        },
        "scene": {
         "aspectmode": "auto",
         "aspectratio": {
          "x": 1,
          "y": 1,
          "z": 1
         },
         "camera": {
          "center": {
           "x": 0,
           "y": 0,
           "z": 0
          },
          "eye": {
           "x": 1.7489040945803762,
           "y": 0.6986371484176438,
           "z": 0.8820067752813303
          },
          "projection": {
           "type": "perspective"
          },
          "up": {
           "x": 0,
           "y": 0,
           "z": 1
          }
         },
         "domain": {
          "x": [
           0,
           1
          ],
          "y": [
           0,
           1
          ]
         },
         "xaxis": {
          "title": {
           "text": "NA_BIAS"
          }
         },
         "yaxis": {
          "title": {
           "text": "WEU_BIAS"
          }
         },
         "zaxis": {
          "title": {
           "text": "CN_BIAS"
          }
         }
        },
        "template": {
         "data": {
          "bar": [
           {
            "error_x": {
             "color": "rgb(36,36,36)"
            },
            "error_y": {
             "color": "rgb(36,36,36)"
            },
            "marker": {
             "line": {
              "color": "rgb(234,234,242)",
              "width": 0.5
             },
             "pattern": {
              "fillmode": "overlay",
              "size": 10,
              "solidity": 0.2
             }
            },
            "type": "bar"
           }
          ],
          "barpolar": [
           {
            "marker": {
             "line": {
              "color": "rgb(234,234,242)",
              "width": 0.5
             },
             "pattern": {
              "fillmode": "overlay",
              "size": 10,
              "solidity": 0.2
             }
            },
            "type": "barpolar"
           }
          ],
          "carpet": [
           {
            "aaxis": {
             "endlinecolor": "rgb(36,36,36)",
             "gridcolor": "white",
             "linecolor": "white",
             "minorgridcolor": "white",
             "startlinecolor": "rgb(36,36,36)"
            },
            "baxis": {
             "endlinecolor": "rgb(36,36,36)",
             "gridcolor": "white",
             "linecolor": "white",
             "minorgridcolor": "white",
             "startlinecolor": "rgb(36,36,36)"
            },
            "type": "carpet"
           }
          ],
          "choropleth": [
           {
            "colorbar": {
             "outlinewidth": 0,
             "tickcolor": "rgb(36,36,36)",
             "ticklen": 8,
             "ticks": "outside",
             "tickwidth": 2
            },
            "type": "choropleth"
           }
          ],
          "contour": [
           {
            "colorbar": {
             "outlinewidth": 0,
             "tickcolor": "rgb(36,36,36)",
             "ticklen": 8,
             "ticks": "outside",
             "tickwidth": 2
            },
            "colorscale": [
             [
              0,
              "rgb(2,4,25)"
             ],
             [
              0.06274509803921569,
              "rgb(24,15,41)"
             ],
             [
              0.12549019607843137,
              "rgb(47,23,57)"
             ],
             [
              0.18823529411764706,
              "rgb(71,28,72)"
             ],
             [
              0.25098039215686274,
              "rgb(97,30,82)"
             ],
             [
              0.3137254901960784,
              "rgb(123,30,89)"
             ],
             [
              0.3764705882352941,
              "rgb(150,27,91)"
             ],
             [
              0.4392156862745098,
              "rgb(177,22,88)"
             ],
             [
              0.5019607843137255,
              "rgb(203,26,79)"
             ],
             [
              0.5647058823529412,
              "rgb(223,47,67)"
             ],
             [
              0.6274509803921569,
              "rgb(236,76,61)"
             ],
             [
              0.6901960784313725,
              "rgb(242,107,73)"
             ],
             [
              0.7529411764705882,
              "rgb(244,135,95)"
             ],
             [
              0.8156862745098039,
              "rgb(245,162,122)"
             ],
             [
              0.8784313725490196,
              "rgb(246,188,153)"
             ],
             [
              0.9411764705882353,
              "rgb(247,212,187)"
             ],
             [
              1,
              "rgb(250,234,220)"
             ]
            ],
            "type": "contour"
           }
          ],
          "contourcarpet": [
           {
            "colorbar": {
             "outlinewidth": 0,
             "tickcolor": "rgb(36,36,36)",
             "ticklen": 8,
             "ticks": "outside",
             "tickwidth": 2
            },
            "type": "contourcarpet"
           }
          ],
          "heatmap": [
           {
            "colorbar": {
             "outlinewidth": 0,
             "tickcolor": "rgb(36,36,36)",
             "ticklen": 8,
             "ticks": "outside",
             "tickwidth": 2
            },
            "colorscale": [
             [
              0,
              "rgb(2,4,25)"
             ],
             [
              0.06274509803921569,
              "rgb(24,15,41)"
             ],
             [
              0.12549019607843137,
              "rgb(47,23,57)"
             ],
             [
              0.18823529411764706,
              "rgb(71,28,72)"
             ],
             [
              0.25098039215686274,
              "rgb(97,30,82)"
             ],
             [
              0.3137254901960784,
              "rgb(123,30,89)"
             ],
             [
              0.3764705882352941,
              "rgb(150,27,91)"
             ],
             [
              0.4392156862745098,
              "rgb(177,22,88)"
             ],
             [
              0.5019607843137255,
              "rgb(203,26,79)"
             ],
             [
              0.5647058823529412,
              "rgb(223,47,67)"
             ],
             [
              0.6274509803921569,
              "rgb(236,76,61)"
             ],
             [
              0.6901960784313725,
              "rgb(242,107,73)"
             ],
             [
              0.7529411764705882,
              "rgb(244,135,95)"
             ],
             [
              0.8156862745098039,
              "rgb(245,162,122)"
             ],
             [
              0.8784313725490196,
              "rgb(246,188,153)"
             ],
             [
              0.9411764705882353,
              "rgb(247,212,187)"
             ],
             [
              1,
              "rgb(250,234,220)"
             ]
            ],
            "type": "heatmap"
           }
          ],
          "heatmapgl": [
           {
            "colorbar": {
             "outlinewidth": 0,
             "tickcolor": "rgb(36,36,36)",
             "ticklen": 8,
             "ticks": "outside",
             "tickwidth": 2
            },
            "colorscale": [
             [
              0,
              "rgb(2,4,25)"
             ],
             [
              0.06274509803921569,
              "rgb(24,15,41)"
             ],
             [
              0.12549019607843137,
              "rgb(47,23,57)"
             ],
             [
              0.18823529411764706,
              "rgb(71,28,72)"
             ],
             [
              0.25098039215686274,
              "rgb(97,30,82)"
             ],
             [
              0.3137254901960784,
              "rgb(123,30,89)"
             ],
             [
              0.3764705882352941,
              "rgb(150,27,91)"
             ],
             [
              0.4392156862745098,
              "rgb(177,22,88)"
             ],
             [
              0.5019607843137255,
              "rgb(203,26,79)"
             ],
             [
              0.5647058823529412,
              "rgb(223,47,67)"
             ],
             [
              0.6274509803921569,
              "rgb(236,76,61)"
             ],
             [
              0.6901960784313725,
              "rgb(242,107,73)"
             ],
             [
              0.7529411764705882,
              "rgb(244,135,95)"
             ],
             [
              0.8156862745098039,
              "rgb(245,162,122)"
             ],
             [
              0.8784313725490196,
              "rgb(246,188,153)"
             ],
             [
              0.9411764705882353,
              "rgb(247,212,187)"
             ],
             [
              1,
              "rgb(250,234,220)"
             ]
            ],
            "type": "heatmapgl"
           }
          ],
          "histogram": [
           {
            "marker": {
             "pattern": {
              "fillmode": "overlay",
              "size": 10,
              "solidity": 0.2
             }
            },
            "type": "histogram"
           }
          ],
          "histogram2d": [
           {
            "colorbar": {
             "outlinewidth": 0,
             "tickcolor": "rgb(36,36,36)",
             "ticklen": 8,
             "ticks": "outside",
             "tickwidth": 2
            },
            "colorscale": [
             [
              0,
              "rgb(2,4,25)"
             ],
             [
              0.06274509803921569,
              "rgb(24,15,41)"
             ],
             [
              0.12549019607843137,
              "rgb(47,23,57)"
             ],
             [
              0.18823529411764706,
              "rgb(71,28,72)"
             ],
             [
              0.25098039215686274,
              "rgb(97,30,82)"
             ],
             [
              0.3137254901960784,
              "rgb(123,30,89)"
             ],
             [
              0.3764705882352941,
              "rgb(150,27,91)"
             ],
             [
              0.4392156862745098,
              "rgb(177,22,88)"
             ],
             [
              0.5019607843137255,
              "rgb(203,26,79)"
             ],
             [
              0.5647058823529412,
              "rgb(223,47,67)"
             ],
             [
              0.6274509803921569,
              "rgb(236,76,61)"
             ],
             [
              0.6901960784313725,
              "rgb(242,107,73)"
             ],
             [
              0.7529411764705882,
              "rgb(244,135,95)"
             ],
             [
              0.8156862745098039,
              "rgb(245,162,122)"
             ],
             [
              0.8784313725490196,
              "rgb(246,188,153)"
             ],
             [
              0.9411764705882353,
              "rgb(247,212,187)"
             ],
             [
              1,
              "rgb(250,234,220)"
             ]
            ],
            "type": "histogram2d"
           }
          ],
          "histogram2dcontour": [
           {
            "colorbar": {
             "outlinewidth": 0,
             "tickcolor": "rgb(36,36,36)",
             "ticklen": 8,
             "ticks": "outside",
             "tickwidth": 2
            },
            "colorscale": [
             [
              0,
              "rgb(2,4,25)"
             ],
             [
              0.06274509803921569,
              "rgb(24,15,41)"
             ],
             [
              0.12549019607843137,
              "rgb(47,23,57)"
             ],
             [
              0.18823529411764706,
              "rgb(71,28,72)"
             ],
             [
              0.25098039215686274,
              "rgb(97,30,82)"
             ],
             [
              0.3137254901960784,
              "rgb(123,30,89)"
             ],
             [
              0.3764705882352941,
              "rgb(150,27,91)"
             ],
             [
              0.4392156862745098,
              "rgb(177,22,88)"
             ],
             [
              0.5019607843137255,
              "rgb(203,26,79)"
             ],
             [
              0.5647058823529412,
              "rgb(223,47,67)"
             ],
             [
              0.6274509803921569,
              "rgb(236,76,61)"
             ],
             [
              0.6901960784313725,
              "rgb(242,107,73)"
             ],
             [
              0.7529411764705882,
              "rgb(244,135,95)"
             ],
             [
              0.8156862745098039,
              "rgb(245,162,122)"
             ],
             [
              0.8784313725490196,
              "rgb(246,188,153)"
             ],
             [
              0.9411764705882353,
              "rgb(247,212,187)"
             ],
             [
              1,
              "rgb(250,234,220)"
             ]
            ],
            "type": "histogram2dcontour"
           }
          ],
          "mesh3d": [
           {
            "colorbar": {
             "outlinewidth": 0,
             "tickcolor": "rgb(36,36,36)",
             "ticklen": 8,
             "ticks": "outside",
             "tickwidth": 2
            },
            "type": "mesh3d"
           }
          ],
          "parcoords": [
           {
            "line": {
             "colorbar": {
              "outlinewidth": 0,
              "tickcolor": "rgb(36,36,36)",
              "ticklen": 8,
              "ticks": "outside",
              "tickwidth": 2
             }
            },
            "type": "parcoords"
           }
          ],
          "pie": [
           {
            "automargin": true,
            "type": "pie"
           }
          ],
          "scatter": [
           {
            "fillpattern": {
             "fillmode": "overlay",
             "size": 10,
             "solidity": 0.2
            },
            "type": "scatter"
           }
          ],
          "scatter3d": [
           {
            "line": {
             "colorbar": {
              "outlinewidth": 0,
              "tickcolor": "rgb(36,36,36)",
              "ticklen": 8,
              "ticks": "outside",
              "tickwidth": 2
             }
            },
            "marker": {
             "colorbar": {
              "outlinewidth": 0,
              "tickcolor": "rgb(36,36,36)",
              "ticklen": 8,
              "ticks": "outside",
              "tickwidth": 2
             }
            },
            "type": "scatter3d"
           }
          ],
          "scattercarpet": [
           {
            "marker": {
             "colorbar": {
              "outlinewidth": 0,
              "tickcolor": "rgb(36,36,36)",
              "ticklen": 8,
              "ticks": "outside",
              "tickwidth": 2
             }
            },
            "type": "scattercarpet"
           }
          ],
          "scattergeo": [
           {
            "marker": {
             "colorbar": {
              "outlinewidth": 0,
              "tickcolor": "rgb(36,36,36)",
              "ticklen": 8,
              "ticks": "outside",
              "tickwidth": 2
             }
            },
            "type": "scattergeo"
           }
          ],
          "scattergl": [
           {
            "marker": {
             "colorbar": {
              "outlinewidth": 0,
              "tickcolor": "rgb(36,36,36)",
              "ticklen": 8,
              "ticks": "outside",
              "tickwidth": 2
             }
            },
            "type": "scattergl"
           }
          ],
          "scattermapbox": [
           {
            "marker": {
             "colorbar": {
              "outlinewidth": 0,
              "tickcolor": "rgb(36,36,36)",
              "ticklen": 8,
              "ticks": "outside",
              "tickwidth": 2
             }
            },
            "type": "scattermapbox"
           }
          ],
          "scatterpolar": [
           {
            "marker": {
             "colorbar": {
              "outlinewidth": 0,
              "tickcolor": "rgb(36,36,36)",
              "ticklen": 8,
              "ticks": "outside",
              "tickwidth": 2
             }
            },
            "type": "scatterpolar"
           }
          ],
          "scatterpolargl": [
           {
            "marker": {
             "colorbar": {
              "outlinewidth": 0,
              "tickcolor": "rgb(36,36,36)",
              "ticklen": 8,
              "ticks": "outside",
              "tickwidth": 2
             }
            },
            "type": "scatterpolargl"
           }
          ],
          "scatterternary": [
           {
            "marker": {
             "colorbar": {
              "outlinewidth": 0,
              "tickcolor": "rgb(36,36,36)",
              "ticklen": 8,
              "ticks": "outside",
              "tickwidth": 2
             }
            },
            "type": "scatterternary"
           }
          ],
          "surface": [
           {
            "colorbar": {
             "outlinewidth": 0,
             "tickcolor": "rgb(36,36,36)",
             "ticklen": 8,
             "ticks": "outside",
             "tickwidth": 2
            },
            "colorscale": [
             [
              0,
              "rgb(2,4,25)"
             ],
             [
              0.06274509803921569,
              "rgb(24,15,41)"
             ],
             [
              0.12549019607843137,
              "rgb(47,23,57)"
             ],
             [
              0.18823529411764706,
              "rgb(71,28,72)"
             ],
             [
              0.25098039215686274,
              "rgb(97,30,82)"
             ],
             [
              0.3137254901960784,
              "rgb(123,30,89)"
             ],
             [
              0.3764705882352941,
              "rgb(150,27,91)"
             ],
             [
              0.4392156862745098,
              "rgb(177,22,88)"
             ],
             [
              0.5019607843137255,
              "rgb(203,26,79)"
             ],
             [
              0.5647058823529412,
              "rgb(223,47,67)"
             ],
             [
              0.6274509803921569,
              "rgb(236,76,61)"
             ],
             [
              0.6901960784313725,
              "rgb(242,107,73)"
             ],
             [
              0.7529411764705882,
              "rgb(244,135,95)"
             ],
             [
              0.8156862745098039,
              "rgb(245,162,122)"
             ],
             [
              0.8784313725490196,
              "rgb(246,188,153)"
             ],
             [
              0.9411764705882353,
              "rgb(247,212,187)"
             ],
             [
              1,
              "rgb(250,234,220)"
             ]
            ],
            "type": "surface"
           }
          ],
          "table": [
           {
            "cells": {
             "fill": {
              "color": "rgb(231,231,240)"
             },
             "line": {
              "color": "white"
             }
            },
            "header": {
             "fill": {
              "color": "rgb(183,183,191)"
             },
             "line": {
              "color": "white"
             }
            },
            "type": "table"
           }
          ]
         },
         "layout": {
          "annotationdefaults": {
           "arrowcolor": "rgb(67,103,167)"
          },
          "autotypenumbers": "strict",
          "coloraxis": {
           "colorbar": {
            "outlinewidth": 0,
            "tickcolor": "rgb(36,36,36)",
            "ticklen": 8,
            "ticks": "outside",
            "tickwidth": 2
           }
          },
          "colorscale": {
           "sequential": [
            [
             0,
             "rgb(2,4,25)"
            ],
            [
             0.06274509803921569,
             "rgb(24,15,41)"
            ],
            [
             0.12549019607843137,
             "rgb(47,23,57)"
            ],
            [
             0.18823529411764706,
             "rgb(71,28,72)"
            ],
            [
             0.25098039215686274,
             "rgb(97,30,82)"
            ],
            [
             0.3137254901960784,
             "rgb(123,30,89)"
            ],
            [
             0.3764705882352941,
             "rgb(150,27,91)"
            ],
            [
             0.4392156862745098,
             "rgb(177,22,88)"
            ],
            [
             0.5019607843137255,
             "rgb(203,26,79)"
            ],
            [
             0.5647058823529412,
             "rgb(223,47,67)"
            ],
            [
             0.6274509803921569,
             "rgb(236,76,61)"
            ],
            [
             0.6901960784313725,
             "rgb(242,107,73)"
            ],
            [
             0.7529411764705882,
             "rgb(244,135,95)"
            ],
            [
             0.8156862745098039,
             "rgb(245,162,122)"
            ],
            [
             0.8784313725490196,
             "rgb(246,188,153)"
            ],
            [
             0.9411764705882353,
             "rgb(247,212,187)"
            ],
            [
             1,
             "rgb(250,234,220)"
            ]
           ],
           "sequentialminus": [
            [
             0,
             "rgb(2,4,25)"
            ],
            [
             0.06274509803921569,
             "rgb(24,15,41)"
            ],
            [
             0.12549019607843137,
             "rgb(47,23,57)"
            ],
            [
             0.18823529411764706,
             "rgb(71,28,72)"
            ],
            [
             0.25098039215686274,
             "rgb(97,30,82)"
            ],
            [
             0.3137254901960784,
             "rgb(123,30,89)"
            ],
            [
             0.3764705882352941,
             "rgb(150,27,91)"
            ],
            [
             0.4392156862745098,
             "rgb(177,22,88)"
            ],
            [
             0.5019607843137255,
             "rgb(203,26,79)"
            ],
            [
             0.5647058823529412,
             "rgb(223,47,67)"
            ],
            [
             0.6274509803921569,
             "rgb(236,76,61)"
            ],
            [
             0.6901960784313725,
             "rgb(242,107,73)"
            ],
            [
             0.7529411764705882,
             "rgb(244,135,95)"
            ],
            [
             0.8156862745098039,
             "rgb(245,162,122)"
            ],
            [
             0.8784313725490196,
             "rgb(246,188,153)"
            ],
            [
             0.9411764705882353,
             "rgb(247,212,187)"
            ],
            [
             1,
             "rgb(250,234,220)"
            ]
           ]
          },
          "colorway": [
           "rgb(76,114,176)",
           "rgb(221,132,82)",
           "rgb(85,168,104)",
           "rgb(196,78,82)",
           "rgb(129,114,179)",
           "rgb(147,120,96)",
           "rgb(218,139,195)",
           "rgb(140,140,140)",
           "rgb(204,185,116)",
           "rgb(100,181,205)"
          ],
          "font": {
           "color": "rgb(36,36,36)"
          },
          "geo": {
           "bgcolor": "white",
           "lakecolor": "white",
           "landcolor": "rgb(234,234,242)",
           "showlakes": true,
           "showland": true,
           "subunitcolor": "white"
          },
          "hoverlabel": {
           "align": "left"
          },
          "hovermode": "closest",
          "paper_bgcolor": "white",
          "plot_bgcolor": "rgb(234,234,242)",
          "polar": {
           "angularaxis": {
            "gridcolor": "white",
            "linecolor": "white",
            "showgrid": true,
            "ticks": ""
           },
           "bgcolor": "rgb(234,234,242)",
           "radialaxis": {
            "gridcolor": "white",
            "linecolor": "white",
            "showgrid": true,
            "ticks": ""
           }
          },
          "scene": {
           "xaxis": {
            "backgroundcolor": "rgb(234,234,242)",
            "gridcolor": "white",
            "gridwidth": 2,
            "linecolor": "white",
            "showbackground": true,
            "showgrid": true,
            "ticks": "",
            "zerolinecolor": "white"
           },
           "yaxis": {
            "backgroundcolor": "rgb(234,234,242)",
            "gridcolor": "white",
            "gridwidth": 2,
            "linecolor": "white",
            "showbackground": true,
            "showgrid": true,
            "ticks": "",
            "zerolinecolor": "white"
           },
           "zaxis": {
            "backgroundcolor": "rgb(234,234,242)",
            "gridcolor": "white",
            "gridwidth": 2,
            "linecolor": "white",
            "showbackground": true,
            "showgrid": true,
            "ticks": "",
            "zerolinecolor": "white"
           }
          },
          "shapedefaults": {
           "fillcolor": "rgb(67,103,167)",
           "line": {
            "width": 0
           },
           "opacity": 0.5
          },
          "ternary": {
           "aaxis": {
            "gridcolor": "white",
            "linecolor": "white",
            "showgrid": true,
            "ticks": ""
           },
           "baxis": {
            "gridcolor": "white",
            "linecolor": "white",
            "showgrid": true,
            "ticks": ""
           },
           "bgcolor": "rgb(234,234,242)",
           "caxis": {
            "gridcolor": "white",
            "linecolor": "white",
            "showgrid": true,
            "ticks": ""
           }
          },
          "xaxis": {
           "automargin": true,
           "gridcolor": "white",
           "linecolor": "white",
           "showgrid": true,
           "ticks": "",
           "title": {
            "standoff": 15
           },
           "zerolinecolor": "white"
          },
          "yaxis": {
           "automargin": true,
           "gridcolor": "white",
           "linecolor": "white",
           "showgrid": true,
           "ticks": "",
           "title": {
            "standoff": 15
           },
           "zerolinecolor": "white"
          }
         }
        }
       }
      },
      "image/png": "[encoded data removed]",
      "text/html": [
       "<div>                            <div id=\"6194d38e-d4da-4f47-b164-81d1c5c0783e\" class=\"plotly-graph-div\" style=\"height:1000px; width:100%;\"></div>            <script type=\"text/javascript\">                require([\"plotly\"], function(Plotly) {                    window.PLOTLYENV=window.PLOTLYENV || {};                                    if (document.getElementById(\"6194d38e-d4da-4f47-b164-81d1c5c0783e\")) {                    Plotly.newPlot(                        \"6194d38e-d4da-4f47-b164-81d1c5c0783e\",                        [{\"hovertemplate\":\"DISCORD_NAME=????<br>NA_BIAS=%{x}<br>WEU_BIAS=%{y}<br>CN_BIAS=%{z}<extra></extra>\",\"legendgroup\":\"????\",\"marker\":{\"color\":\"rgb(76,114,176)\",\"symbol\":\"circle\"},\"mode\":\"markers\",\"name\":\"????\",\"scene\":\"scene\",\"showlegend\":true,\"x\":[null],\"y\":[null],\"z\":[null],\"type\":\"scatter3d\"},{\"hovertemplate\":\"DISCORD_NAME=Amity<br>NA_BIAS=%{x}<br>WEU_BIAS=%{y}<br>CN_BIAS=%{z}<extra></extra>\",\"legendgroup\":\"Amity\",\"marker\":{\"color\":\"rgb(221,132,82)\",\"symbol\":\"circle\"},\"mode\":\"markers\",\"name\":\"Amity\",\"scene\":\"scene\",\"showlegend\":true,\"x\":[1.0],\"y\":[1.4375],\"z\":[0.78125],\"type\":\"scatter3d\"},{\"hovertemplate\":\"DISCORD_NAME=Asway<br>NA_BIAS=%{x}<br>WEU_BIAS=%{y}<br>CN_BIAS=%{z}<extra></extra>\",\"legendgroup\":\"Asway\",\"marker\":{\"color\":\"rgb(85,168,104)\",\"symbol\":\"circle\"},\"mode\":\"markers\",\"name\":\"Asway\",\"scene\":\"scene\",\"showlegend\":true,\"x\":[1.0625],\"y\":[1.6875],\"z\":[1.0],\"type\":\"scatter3d\"},{\"hovertemplate\":\"DISCORD_NAME=Bammboo<br>NA_BIAS=%{x}<br>WEU_BIAS=%{y}<br>CN_BIAS=%{z}<extra></extra>\",\"legendgroup\":\"Bammboo\",\"marker\":{\"color\":\"rgb(196,78,82)\",\"symbol\":\"circle\"},\"mode\":\"markers\",\"name\":\"Bammboo\",\"scene\":\"scene\",\"showlegend\":true,\"x\":[1.625],\"y\":[1.0],\"z\":[0.96875],\"type\":\"scatter3d\"},{\"hovertemplate\":\"DISCORD_NAME=BeefBomber<br>NA_BIAS=%{x}<br>WEU_BIAS=%{y}<br>CN_BIAS=%{z}<extra></extra>\",\"legendgroup\":\"BeefBomber\",\"marker\":{\"color\":\"rgb(129,114,179)\",\"symbol\":\"circle\"},\"mode\":\"markers\",\"name\":\"BeefBomber\",\"scene\":\"scene\",\"showlegend\":true,\"x\":[1.6875],\"y\":[1.265625],\"z\":[0.84375],\"type\":\"scatter3d\"},{\"hovertemplate\":\"DISCORD_NAME=Bridge(4)Burner<br>NA_BIAS=%{x}<br>WEU_BIAS=%{y}<br>CN_BIAS=%{z}<extra></extra>\",\"legendgroup\":\"Bridge(4)Burner\",\"marker\":{\"color\":\"rgb(147,120,96)\",\"symbol\":\"circle\"},\"mode\":\"markers\",\"name\":\"Bridge(4)Burner\",\"scene\":\"scene\",\"showlegend\":true,\"x\":[1.0],\"y\":[1.40625],\"z\":[0.78125],\"type\":\"scatter3d\"},{\"hovertemplate\":\"DISCORD_NAME=Cakes<br>NA_BIAS=%{x}<br>WEU_BIAS=%{y}<br>CN_BIAS=%{z}<extra></extra>\",\"legendgroup\":\"Cakes\",\"marker\":{\"color\":\"rgb(218,139,195)\",\"symbol\":\"circle\"},\"mode\":\"markers\",\"name\":\"Cakes\",\"scene\":\"scene\",\"showlegend\":true,\"x\":[1.546875],\"y\":[1.30078125],\"z\":[0.87890625],\"type\":\"scatter3d\"},{\"hovertemplate\":\"DISCORD_NAME=DAVID CHANG FANBOY<br>NA_BIAS=%{x}<br>WEU_BIAS=%{y}<br>CN_BIAS=%{z}<extra></extra>\",\"legendgroup\":\"DAVID CHANG FANBOY\",\"marker\":{\"color\":\"rgb(140,140,140)\",\"symbol\":\"circle\"},\"mode\":\"markers\",\"name\":\"DAVID CHANG FANBOY\",\"scene\":\"scene\",\"showlegend\":true,\"x\":[0.9375],\"y\":[1.734375],\"z\":[0.65625],\"type\":\"scatter3d\"},{\"hovertemplate\":\"DISCORD_NAME=Doxs<br>NA_BIAS=%{x}<br>WEU_BIAS=%{y}<br>CN_BIAS=%{z}<extra></extra>\",\"legendgroup\":\"Doxs\",\"marker\":{\"color\":\"rgb(204,185,116)\",\"symbol\":\"circle\"},\"mode\":\"markers\",\"name\":\"Doxs\",\"scene\":\"scene\",\"showlegend\":true,\"x\":[0.84375],\"y\":[1.359375],\"z\":[0.9375],\"type\":\"scatter3d\"},{\"hovertemplate\":\"DISCORD_NAME=EgoErc<br>NA_BIAS=%{x}<br>WEU_BIAS=%{y}<br>CN_BIAS=%{z}<extra></extra>\",\"legendgroup\":\"EgoErc\",\"marker\":{\"color\":\"rgb(100,181,205)\",\"symbol\":\"circle\"},\"mode\":\"markers\",\"name\":\"EgoErc\",\"scene\":\"scene\",\"showlegend\":true,\"x\":[0.9375],\"y\":[1.5],\"z\":[0.8125],\"type\":\"scatter3d\"},{\"hovertemplate\":\"DISCORD_NAME=Essex<br>NA_BIAS=%{x}<br>WEU_BIAS=%{y}<br>CN_BIAS=%{z}<extra></extra>\",\"legendgroup\":\"Essex\",\"marker\":{\"color\":\"rgb(76,114,176)\",\"symbol\":\"circle\"},\"mode\":\"markers\",\"name\":\"Essex\",\"scene\":\"scene\",\"showlegend\":true,\"x\":[1.125],\"y\":[1.359375],\"z\":[0.796875],\"type\":\"scatter3d\"},{\"hovertemplate\":\"DISCORD_NAME=GIRbazk<br>NA_BIAS=%{x}<br>WEU_BIAS=%{y}<br>CN_BIAS=%{z}<extra></extra>\",\"legendgroup\":\"GIRbazk\",\"marker\":{\"color\":\"rgb(221,132,82)\",\"symbol\":\"circle\"},\"mode\":\"markers\",\"name\":\"GIRbazk\",\"scene\":\"scene\",\"showlegend\":true,\"x\":[1.125],\"y\":[1.6071428571428572],\"z\":[0.4419642857142857],\"type\":\"scatter3d\"},{\"hovertemplate\":\"DISCORD_NAME=GMT<br>NA_BIAS=%{x}<br>WEU_BIAS=%{y}<br>CN_BIAS=%{z}<extra></extra>\",\"legendgroup\":\"GMT\",\"marker\":{\"color\":\"rgb(85,168,104)\",\"symbol\":\"circle\"},\"mode\":\"markers\",\"name\":\"GMT\",\"scene\":\"scene\",\"showlegend\":true,\"x\":[1.3660714285714284],\"y\":[1.4464285714285716],\"z\":[1.0044642857142858],\"type\":\"scatter3d\"},{\"hovertemplate\":\"DISCORD_NAME=Gimpyjoe<br>NA_BIAS=%{x}<br>WEU_BIAS=%{y}<br>CN_BIAS=%{z}<extra></extra>\",\"legendgroup\":\"Gimpyjoe\",\"marker\":{\"color\":\"rgb(196,78,82)\",\"symbol\":\"circle\"},\"mode\":\"markers\",\"name\":\"Gimpyjoe\",\"scene\":\"scene\",\"showlegend\":true,\"x\":[1.0],\"y\":[1.46875],\"z\":[0.875],\"type\":\"scatter3d\"},{\"hovertemplate\":\"DISCORD_NAME=Kit<br>NA_BIAS=%{x}<br>WEU_BIAS=%{y}<br>CN_BIAS=%{z}<extra></extra>\",\"legendgroup\":\"Kit\",\"marker\":{\"color\":\"rgb(129,114,179)\",\"symbol\":\"circle\"},\"mode\":\"markers\",\"name\":\"Kit\",\"scene\":\"scene\",\"showlegend\":true,\"x\":[1.0625],\"y\":[1.375],\"z\":[0.9375],\"type\":\"scatter3d\"},{\"hovertemplate\":\"DISCORD_NAME=MonoMithras<br>NA_BIAS=%{x}<br>WEU_BIAS=%{y}<br>CN_BIAS=%{z}<extra></extra>\",\"legendgroup\":\"MonoMithras\",\"marker\":{\"color\":\"rgb(147,120,96)\",\"symbol\":\"circle\"},\"mode\":\"markers\",\"name\":\"MonoMithras\",\"scene\":\"scene\",\"showlegend\":true,\"x\":[1.1953125],\"y\":[1.72265625],\"z\":[0.80859375],\"type\":\"scatter3d\"},{\"hovertemplate\":\"DISCORD_NAME=OXD<br>NA_BIAS=%{x}<br>WEU_BIAS=%{y}<br>CN_BIAS=%{z}<extra></extra>\",\"legendgroup\":\"OXD\",\"marker\":{\"color\":\"rgb(218,139,195)\",\"symbol\":\"circle\"},\"mode\":\"markers\",\"name\":\"OXD\",\"scene\":\"scene\",\"showlegend\":true,\"x\":[0.9375],\"y\":[1.4375],\"z\":[0.84375],\"type\":\"scatter3d\"},{\"hovertemplate\":\"DISCORD_NAME=Powder<br>NA_BIAS=%{x}<br>WEU_BIAS=%{y}<br>CN_BIAS=%{z}<extra></extra>\",\"legendgroup\":\"Powder\",\"marker\":{\"color\":\"rgb(140,140,140)\",\"symbol\":\"circle\"},\"mode\":\"markers\",\"name\":\"Powder\",\"scene\":\"scene\",\"showlegend\":true,\"x\":[0.875],\"y\":[1.3125],\"z\":[0.84375],\"type\":\"scatter3d\"},{\"hovertemplate\":\"DISCORD_NAME=PriscillAAH<br>NA_BIAS=%{x}<br>WEU_BIAS=%{y}<br>CN_BIAS=%{z}<extra></extra>\",\"legendgroup\":\"PriscillAAH\",\"marker\":{\"color\":\"rgb(204,185,116)\",\"symbol\":\"circle\"},\"mode\":\"markers\",\"name\":\"PriscillAAH\",\"scene\":\"scene\",\"showlegend\":true,\"x\":[1.2053571428571428],\"y\":[1.6875],\"z\":[0.6830357142857142],\"type\":\"scatter3d\"},{\"hovertemplate\":\"DISCORD_NAME=Puppets<br>NA_BIAS=%{x}<br>WEU_BIAS=%{y}<br>CN_BIAS=%{z}<extra></extra>\",\"legendgroup\":\"Puppets\",\"marker\":{\"color\":\"rgb(100,181,205)\",\"symbol\":\"circle\"},\"mode\":\"markers\",\"name\":\"Puppets\",\"scene\":\"scene\",\"showlegend\":true,\"x\":[1.125],\"y\":[1.4464285714285716],\"z\":[0.6026785714285714],\"type\":\"scatter3d\"},{\"hovertemplate\":\"DISCORD_NAME=Rucket<br>NA_BIAS=%{x}<br>WEU_BIAS=%{y}<br>CN_BIAS=%{z}<extra></extra>\",\"legendgroup\":\"Rucket\",\"marker\":{\"color\":\"rgb(76,114,176)\",\"symbol\":\"circle\"},\"mode\":\"markers\",\"name\":\"Rucket\",\"scene\":\"scene\",\"showlegend\":true,\"x\":[0.9375],\"y\":[1.375],\"z\":[0.84375],\"type\":\"scatter3d\"},{\"hovertemplate\":\"DISCORD_NAME=Shap Daddy Happenin<br>NA_BIAS=%{x}<br>WEU_BIAS=%{y}<br>CN_BIAS=%{z}<extra></extra>\",\"legendgroup\":\"Shap Daddy Happenin\",\"marker\":{\"color\":\"rgb(221,132,82)\",\"symbol\":\"circle\"},\"mode\":\"markers\",\"name\":\"Shap Daddy Happenin\",\"scene\":\"scene\",\"showlegend\":true,\"x\":[0.9375],\"y\":[1.34375],\"z\":[0.71875],\"type\":\"scatter3d\"},{\"hovertemplate\":\"DISCORD_NAME=Sidd<br>NA_BIAS=%{x}<br>WEU_BIAS=%{y}<br>CN_BIAS=%{z}<extra></extra>\",\"legendgroup\":\"Sidd\",\"marker\":{\"color\":\"rgb(85,168,104)\",\"symbol\":\"circle\"},\"mode\":\"markers\",\"name\":\"Sidd\",\"scene\":\"scene\",\"showlegend\":true,\"x\":[1.5],\"y\":[1.71875],\"z\":[0.46875],\"type\":\"scatter3d\"},{\"hovertemplate\":\"DISCORD_NAME=SliceofToast<br>NA_BIAS=%{x}<br>WEU_BIAS=%{y}<br>CN_BIAS=%{z}<extra></extra>\",\"legendgroup\":\"SliceofToast\",\"marker\":{\"color\":\"rgb(196,78,82)\",\"symbol\":\"circle\"},\"mode\":\"markers\",\"name\":\"SliceofToast\",\"scene\":\"scene\",\"showlegend\":true,\"x\":[1.6875],\"y\":[1.3359375],\"z\":[0.7734375],\"type\":\"scatter3d\"},{\"hovertemplate\":\"DISCORD_NAME=Super<br>NA_BIAS=%{x}<br>WEU_BIAS=%{y}<br>CN_BIAS=%{z}<extra></extra>\",\"legendgroup\":\"Super\",\"marker\":{\"color\":\"rgb(129,114,179)\",\"symbol\":\"circle\"},\"mode\":\"markers\",\"name\":\"Super\",\"scene\":\"scene\",\"showlegend\":true,\"x\":[1.0],\"y\":[1.5],\"z\":[0.84375],\"type\":\"scatter3d\"},{\"hovertemplate\":\"DISCORD_NAME=Tetsuya<br>NA_BIAS=%{x}<br>WEU_BIAS=%{y}<br>CN_BIAS=%{z}<extra></extra>\",\"legendgroup\":\"Tetsuya\",\"marker\":{\"color\":\"rgb(147,120,96)\",\"symbol\":\"circle\"},\"mode\":\"markers\",\"name\":\"Tetsuya\",\"scene\":\"scene\",\"showlegend\":true,\"x\":[0.984375],\"y\":[1.3359375],\"z\":[0.984375],\"type\":\"scatter3d\"},{\"hovertemplate\":\"DISCORD_NAME=The_Blackbird<br>NA_BIAS=%{x}<br>WEU_BIAS=%{y}<br>CN_BIAS=%{z}<extra></extra>\",\"legendgroup\":\"The_Blackbird\",\"marker\":{\"color\":\"rgb(218,139,195)\",\"symbol\":\"circle\"},\"mode\":\"markers\",\"name\":\"The_Blackbird\",\"scene\":\"scene\",\"showlegend\":true,\"x\":[1.0],\"y\":[1.5],\"z\":[0.71875],\"type\":\"scatter3d\"},{\"hovertemplate\":\"DISCORD_NAME=Tino_<br>NA_BIAS=%{x}<br>WEU_BIAS=%{y}<br>CN_BIAS=%{z}<extra></extra>\",\"legendgroup\":\"Tino_\",\"marker\":{\"color\":\"rgb(140,140,140)\",\"symbol\":\"circle\"},\"mode\":\"markers\",\"name\":\"Tino_\",\"scene\":\"scene\",\"showlegend\":true,\"x\":[1.1875],\"y\":[1.59375],\"z\":[0.59375],\"type\":\"scatter3d\"},{\"hovertemplate\":\"DISCORD_NAME=Vermilion<br>NA_BIAS=%{x}<br>WEU_BIAS=%{y}<br>CN_BIAS=%{z}<extra></extra>\",\"legendgroup\":\"Vermilion\",\"marker\":{\"color\":\"rgb(204,185,116)\",\"symbol\":\"circle\"},\"mode\":\"markers\",\"name\":\"Vermilion\",\"scene\":\"scene\",\"showlegend\":true,\"x\":[1.125],\"y\":[1.65625],\"z\":[0.8125],\"type\":\"scatter3d\"},{\"hovertemplate\":\"DISCORD_NAME=Vuvuzela Virtuoso Hans Rudolph<br>NA_BIAS=%{x}<br>WEU_BIAS=%{y}<br>CN_BIAS=%{z}<extra></extra>\",\"legendgroup\":\"Vuvuzela Virtuoso Hans Rudolph\",\"marker\":{\"color\":\"rgb(100,181,205)\",\"symbol\":\"circle\"},\"mode\":\"markers\",\"name\":\"Vuvuzela Virtuoso Hans Rudolph\",\"scene\":\"scene\",\"showlegend\":true,\"x\":[0.9375],\"y\":[1.53125],\"z\":[1.0],\"type\":\"scatter3d\"},{\"hovertemplate\":\"DISCORD_NAME=Waltz<br>NA_BIAS=%{x}<br>WEU_BIAS=%{y}<br>CN_BIAS=%{z}<extra></extra>\",\"legendgroup\":\"Waltz\",\"marker\":{\"color\":\"rgb(76,114,176)\",\"symbol\":\"circle\"},\"mode\":\"markers\",\"name\":\"Waltz\",\"scene\":\"scene\",\"showlegend\":true,\"x\":[1.1953125],\"y\":[1.7578125],\"z\":[0.94921875],\"type\":\"scatter3d\"},{\"hovertemplate\":\"DISCORD_NAME=WritingFates<br>NA_BIAS=%{x}<br>WEU_BIAS=%{y}<br>CN_BIAS=%{z}<extra></extra>\",\"legendgroup\":\"WritingFates\",\"marker\":{\"color\":\"rgb(221,132,82)\",\"symbol\":\"circle\"},\"mode\":\"markers\",\"name\":\"WritingFates\",\"scene\":\"scene\",\"showlegend\":true,\"x\":[0.9375],\"y\":[1.53125],\"z\":[0.8125],\"type\":\"scatter3d\"},{\"hovertemplate\":\"DISCORD_NAME=Xan<br>NA_BIAS=%{x}<br>WEU_BIAS=%{y}<br>CN_BIAS=%{z}<extra></extra>\",\"legendgroup\":\"Xan\",\"marker\":{\"color\":\"rgb(85,168,104)\",\"symbol\":\"circle\"},\"mode\":\"markers\",\"name\":\"Xan\",\"scene\":\"scene\",\"showlegend\":true,\"x\":[1.40625],\"y\":[1.40625],\"z\":[0.5625],\"type\":\"scatter3d\"},{\"hovertemplate\":\"DISCORD_NAME=[/dev/grohl]<br>NA_BIAS=%{x}<br>WEU_BIAS=%{y}<br>CN_BIAS=%{z}<extra></extra>\",\"legendgroup\":\"[/dev/grohl]\",\"marker\":{\"color\":\"rgb(196,78,82)\",\"symbol\":\"circle\"},\"mode\":\"markers\",\"name\":\"[/dev/grohl]\",\"scene\":\"scene\",\"showlegend\":true,\"x\":[1.125],\"y\":[1.65625],\"z\":[0.78125],\"type\":\"scatter3d\"},{\"hovertemplate\":\"DISCORD_NAME=cuddlz<br>NA_BIAS=%{x}<br>WEU_BIAS=%{y}<br>CN_BIAS=%{z}<extra></extra>\",\"legendgroup\":\"cuddlz\",\"marker\":{\"color\":\"rgb(129,114,179)\",\"symbol\":\"circle\"},\"mode\":\"markers\",\"name\":\"cuddlz\",\"scene\":\"scene\",\"showlegend\":true,\"x\":[1.25],\"y\":[1.71875],\"z\":[0.875],\"type\":\"scatter3d\"},{\"hovertemplate\":\"DISCORD_NAME=eonden<br>NA_BIAS=%{x}<br>WEU_BIAS=%{y}<br>CN_BIAS=%{z}<extra></extra>\",\"legendgroup\":\"eonden\",\"marker\":{\"color\":\"rgb(147,120,96)\",\"symbol\":\"circle\"},\"mode\":\"markers\",\"name\":\"eonden\",\"scene\":\"scene\",\"showlegend\":true,\"x\":[1.0625],\"y\":[1.46875],\"z\":[0.84375],\"type\":\"scatter3d\"},{\"hovertemplate\":\"DISCORD_NAME=oppressive_hat<br>NA_BIAS=%{x}<br>WEU_BIAS=%{y}<br>CN_BIAS=%{z}<extra></extra>\",\"legendgroup\":\"oppressive_hat\",\"marker\":{\"color\":\"rgb(218,139,195)\",\"symbol\":\"circle\"},\"mode\":\"markers\",\"name\":\"oppressive_hat\",\"scene\":\"scene\",\"showlegend\":true,\"x\":[1.0],\"y\":[1.375],\"z\":[1.0625],\"type\":\"scatter3d\"},{\"hovertemplate\":\"DISCORD_NAME=pwningdude<br>NA_BIAS=%{x}<br>WEU_BIAS=%{y}<br>CN_BIAS=%{z}<extra></extra>\",\"legendgroup\":\"pwningdude\",\"marker\":{\"color\":\"rgb(140,140,140)\",\"symbol\":\"circle\"},\"mode\":\"markers\",\"name\":\"pwningdude\",\"scene\":\"scene\",\"showlegend\":true,\"x\":[1.40625],\"y\":[1.125],\"z\":[0.84375],\"type\":\"scatter3d\"},{\"hovertemplate\":\"DISCORD_NAME=seebs<br>NA_BIAS=%{x}<br>WEU_BIAS=%{y}<br>CN_BIAS=%{z}<extra></extra>\",\"legendgroup\":\"seebs\",\"marker\":{\"color\":\"rgb(204,185,116)\",\"symbol\":\"circle\"},\"mode\":\"markers\",\"name\":\"seebs\",\"scene\":\"scene\",\"showlegend\":true,\"x\":[1.125],\"y\":[1.3359375],\"z\":[0.9140625],\"type\":\"scatter3d\"},{\"hovertemplate\":\"DISCORD_NAME=srinjit_v<br>NA_BIAS=%{x}<br>WEU_BIAS=%{y}<br>CN_BIAS=%{z}<extra></extra>\",\"legendgroup\":\"srinjit_v\",\"marker\":{\"color\":\"rgb(100,181,205)\",\"symbol\":\"circle\"},\"mode\":\"markers\",\"name\":\"srinjit_v\",\"scene\":\"scene\",\"showlegend\":true,\"x\":[1.125],\"y\":[1.21875],\"z\":[1.21875],\"type\":\"scatter3d\"}],                        {\"template\":{\"data\":{\"barpolar\":[{\"marker\":{\"line\":{\"color\":\"rgb(234,234,242)\",\"width\":0.5},\"pattern\":{\"fillmode\":\"overlay\",\"size\":10,\"solidity\":0.2}},\"type\":\"barpolar\"}],\"bar\":[{\"error_x\":{\"color\":\"rgb(36,36,36)\"},\"error_y\":{\"color\":\"rgb(36,36,36)\"},\"marker\":{\"line\":{\"color\":\"rgb(234,234,242)\",\"width\":0.5},\"pattern\":{\"fillmode\":\"overlay\",\"size\":10,\"solidity\":0.2}},\"type\":\"bar\"}],\"carpet\":[{\"aaxis\":{\"endlinecolor\":\"rgb(36,36,36)\",\"gridcolor\":\"white\",\"linecolor\":\"white\",\"minorgridcolor\":\"white\",\"startlinecolor\":\"rgb(36,36,36)\"},\"baxis\":{\"endlinecolor\":\"rgb(36,36,36)\",\"gridcolor\":\"white\",\"linecolor\":\"white\",\"minorgridcolor\":\"white\",\"startlinecolor\":\"rgb(36,36,36)\"},\"type\":\"carpet\"}],\"choropleth\":[{\"colorbar\":{\"outlinewidth\":0,\"tickcolor\":\"rgb(36,36,36)\",\"ticklen\":8,\"ticks\":\"outside\",\"tickwidth\":2},\"type\":\"choropleth\"}],\"contourcarpet\":[{\"colorbar\":{\"outlinewidth\":0,\"tickcolor\":\"rgb(36,36,36)\",\"ticklen\":8,\"ticks\":\"outside\",\"tickwidth\":2},\"type\":\"contourcarpet\"}],\"contour\":[{\"colorbar\":{\"outlinewidth\":0,\"tickcolor\":\"rgb(36,36,36)\",\"ticklen\":8,\"ticks\":\"outside\",\"tickwidth\":2},\"colorscale\":[[0.0,\"rgb(2,4,25)\"],[0.06274509803921569,\"rgb(24,15,41)\"],[0.12549019607843137,\"rgb(47,23,57)\"],[0.18823529411764706,\"rgb(71,28,72)\"],[0.25098039215686274,\"rgb(97,30,82)\"],[0.3137254901960784,\"rgb(123,30,89)\"],[0.3764705882352941,\"rgb(150,27,91)\"],[0.4392156862745098,\"rgb(177,22,88)\"],[0.5019607843137255,\"rgb(203,26,79)\"],[0.5647058823529412,\"rgb(223,47,67)\"],[0.6274509803921569,\"rgb(236,76,61)\"],[0.6901960784313725,\"rgb(242,107,73)\"],[0.7529411764705882,\"rgb(244,135,95)\"],[0.8156862745098039,\"rgb(245,162,122)\"],[0.8784313725490196,\"rgb(246,188,153)\"],[0.9411764705882353,\"rgb(247,212,187)\"],[1.0,\"rgb(250,234,220)\"]],\"type\":\"contour\"}],\"heatmapgl\":[{\"colorbar\":{\"outlinewidth\":0,\"tickcolor\":\"rgb(36,36,36)\",\"ticklen\":8,\"ticks\":\"outside\",\"tickwidth\":2},\"colorscale\":[[0.0,\"rgb(2,4,25)\"],[0.06274509803921569,\"rgb(24,15,41)\"],[0.12549019607843137,\"rgb(47,23,57)\"],[0.18823529411764706,\"rgb(71,28,72)\"],[0.25098039215686274,\"rgb(97,30,82)\"],[0.3137254901960784,\"rgb(123,30,89)\"],[0.3764705882352941,\"rgb(150,27,91)\"],[0.4392156862745098,\"rgb(177,22,88)\"],[0.5019607843137255,\"rgb(203,26,79)\"],[0.5647058823529412,\"rgb(223,47,67)\"],[0.6274509803921569,\"rgb(236,76,61)\"],[0.6901960784313725,\"rgb(242,107,73)\"],[0.7529411764705882,\"rgb(244,135,95)\"],[0.8156862745098039,\"rgb(245,162,122)\"],[0.8784313725490196,\"rgb(246,188,153)\"],[0.9411764705882353,\"rgb(247,212,187)\"],[1.0,\"rgb(250,234,220)\"]],\"type\":\"heatmapgl\"}],\"heatmap\":[{\"colorbar\":{\"outlinewidth\":0,\"tickcolor\":\"rgb(36,36,36)\",\"ticklen\":8,\"ticks\":\"outside\",\"tickwidth\":2},\"colorscale\":[[0.0,\"rgb(2,4,25)\"],[0.06274509803921569,\"rgb(24,15,41)\"],[0.12549019607843137,\"rgb(47,23,57)\"],[0.18823529411764706,\"rgb(71,28,72)\"],[0.25098039215686274,\"rgb(97,30,82)\"],[0.3137254901960784,\"rgb(123,30,89)\"],[0.3764705882352941,\"rgb(150,27,91)\"],[0.4392156862745098,\"rgb(177,22,88)\"],[0.5019607843137255,\"rgb(203,26,79)\"],[0.5647058823529412,\"rgb(223,47,67)\"],[0.6274509803921569,\"rgb(236,76,61)\"],[0.6901960784313725,\"rgb(242,107,73)\"],[0.7529411764705882,\"rgb(244,135,95)\"],[0.8156862745098039,\"rgb(245,162,122)\"],[0.8784313725490196,\"rgb(246,188,153)\"],[0.9411764705882353,\"rgb(247,212,187)\"],[1.0,\"rgb(250,234,220)\"]],\"type\":\"heatmap\"}],\"histogram2dcontour\":[{\"colorbar\":{\"outlinewidth\":0,\"tickcolor\":\"rgb(36,36,36)\",\"ticklen\":8,\"ticks\":\"outside\",\"tickwidth\":2},\"colorscale\":[[0.0,\"rgb(2,4,25)\"],[0.06274509803921569,\"rgb(24,15,41)\"],[0.12549019607843137,\"rgb(47,23,57)\"],[0.18823529411764706,\"rgb(71,28,72)\"],[0.25098039215686274,\"rgb(97,30,82)\"],[0.3137254901960784,\"rgb(123,30,89)\"],[0.3764705882352941,\"rgb(150,27,91)\"],[0.4392156862745098,\"rgb(177,22,88)\"],[0.5019607843137255,\"rgb(203,26,79)\"],[0.5647058823529412,\"rgb(223,47,67)\"],[0.6274509803921569,\"rgb(236,76,61)\"],[0.6901960784313725,\"rgb(242,107,73)\"],[0.7529411764705882,\"rgb(244,135,95)\"],[0.8156862745098039,\"rgb(245,162,122)\"],[0.8784313725490196,\"rgb(246,188,153)\"],[0.9411764705882353,\"rgb(247,212,187)\"],[1.0,\"rgb(250,234,220)\"]],\"type\":\"histogram2dcontour\"}],\"histogram2d\":[{\"colorbar\":{\"outlinewidth\":0,\"tickcolor\":\"rgb(36,36,36)\",\"ticklen\":8,\"ticks\":\"outside\",\"tickwidth\":2},\"colorscale\":[[0.0,\"rgb(2,4,25)\"],[0.06274509803921569,\"rgb(24,15,41)\"],[0.12549019607843137,\"rgb(47,23,57)\"],[0.18823529411764706,\"rgb(71,28,72)\"],[0.25098039215686274,\"rgb(97,30,82)\"],[0.3137254901960784,\"rgb(123,30,89)\"],[0.3764705882352941,\"rgb(150,27,91)\"],[0.4392156862745098,\"rgb(177,22,88)\"],[0.5019607843137255,\"rgb(203,26,79)\"],[0.5647058823529412,\"rgb(223,47,67)\"],[0.6274509803921569,\"rgb(236,76,61)\"],[0.6901960784313725,\"rgb(242,107,73)\"],[0.7529411764705882,\"rgb(244,135,95)\"],[0.8156862745098039,\"rgb(245,162,122)\"],[0.8784313725490196,\"rgb(246,188,153)\"],[0.9411764705882353,\"rgb(247,212,187)\"],[1.0,\"rgb(250,234,220)\"]],\"type\":\"histogram2d\"}],\"histogram\":[{\"marker\":{\"pattern\":{\"fillmode\":\"overlay\",\"size\":10,\"solidity\":0.2}},\"type\":\"histogram\"}],\"mesh3d\":[{\"colorbar\":{\"outlinewidth\":0,\"tickcolor\":\"rgb(36,36,36)\",\"ticklen\":8,\"ticks\":\"outside\",\"tickwidth\":2},\"type\":\"mesh3d\"}],\"parcoords\":[{\"line\":{\"colorbar\":{\"outlinewidth\":0,\"tickcolor\":\"rgb(36,36,36)\",\"ticklen\":8,\"ticks\":\"outside\",\"tickwidth\":2}},\"type\":\"parcoords\"}],\"pie\":[{\"automargin\":true,\"type\":\"pie\"}],\"scatter3d\":[{\"line\":{\"colorbar\":{\"outlinewidth\":0,\"tickcolor\":\"rgb(36,36,36)\",\"ticklen\":8,\"ticks\":\"outside\",\"tickwidth\":2}},\"marker\":{\"colorbar\":{\"outlinewidth\":0,\"tickcolor\":\"rgb(36,36,36)\",\"ticklen\":8,\"ticks\":\"outside\",\"tickwidth\":2}},\"type\":\"scatter3d\"}],\"scattercarpet\":[{\"marker\":{\"colorbar\":{\"outlinewidth\":0,\"tickcolor\":\"rgb(36,36,36)\",\"ticklen\":8,\"ticks\":\"outside\",\"tickwidth\":2}},\"type\":\"scattercarpet\"}],\"scattergeo\":[{\"marker\":{\"colorbar\":{\"outlinewidth\":0,\"tickcolor\":\"rgb(36,36,36)\",\"ticklen\":8,\"ticks\":\"outside\",\"tickwidth\":2}},\"type\":\"scattergeo\"}],\"scattergl\":[{\"marker\":{\"colorbar\":{\"outlinewidth\":0,\"tickcolor\":\"rgb(36,36,36)\",\"ticklen\":8,\"ticks\":\"outside\",\"tickwidth\":2}},\"type\":\"scattergl\"}],\"scattermapbox\":[{\"marker\":{\"colorbar\":{\"outlinewidth\":0,\"tickcolor\":\"rgb(36,36,36)\",\"ticklen\":8,\"ticks\":\"outside\",\"tickwidth\":2}},\"type\":\"scattermapbox\"}],\"scatterpolargl\":[{\"marker\":{\"colorbar\":{\"outlinewidth\":0,\"tickcolor\":\"rgb(36,36,36)\",\"ticklen\":8,\"ticks\":\"outside\",\"tickwidth\":2}},\"type\":\"scatterpolargl\"}],\"scatterpolar\":[{\"marker\":{\"colorbar\":{\"outlinewidth\":0,\"tickcolor\":\"rgb(36,36,36)\",\"ticklen\":8,\"ticks\":\"outside\",\"tickwidth\":2}},\"type\":\"scatterpolar\"}],\"scatter\":[{\"fillpattern\":{\"fillmode\":\"overlay\",\"size\":10,\"solidity\":0.2},\"type\":\"scatter\"}],\"scatterternary\":[{\"marker\":{\"colorbar\":{\"outlinewidth\":0,\"tickcolor\":\"rgb(36,36,36)\",\"ticklen\":8,\"ticks\":\"outside\",\"tickwidth\":2}},\"type\":\"scatterternary\"}],\"surface\":[{\"colorbar\":{\"outlinewidth\":0,\"tickcolor\":\"rgb(36,36,36)\",\"ticklen\":8,\"ticks\":\"outside\",\"tickwidth\":2},\"colorscale\":[[0.0,\"rgb(2,4,25)\"],[0.06274509803921569,\"rgb(24,15,41)\"],[0.12549019607843137,\"rgb(47,23,57)\"],[0.18823529411764706,\"rgb(71,28,72)\"],[0.25098039215686274,\"rgb(97,30,82)\"],[0.3137254901960784,\"rgb(123,30,89)\"],[0.3764705882352941,\"rgb(150,27,91)\"],[0.4392156862745098,\"rgb(177,22,88)\"],[0.5019607843137255,\"rgb(203,26,79)\"],[0.5647058823529412,\"rgb(223,47,67)\"],[0.6274509803921569,\"rgb(236,76,61)\"],[0.6901960784313725,\"rgb(242,107,73)\"],[0.7529411764705882,\"rgb(244,135,95)\"],[0.8156862745098039,\"rgb(245,162,122)\"],[0.8784313725490196,\"rgb(246,188,153)\"],[0.9411764705882353,\"rgb(247,212,187)\"],[1.0,\"rgb(250,234,220)\"]],\"type\":\"surface\"}],\"table\":[{\"cells\":{\"fill\":{\"color\":\"rgb(231,231,240)\"},\"line\":{\"color\":\"white\"}},\"header\":{\"fill\":{\"color\":\"rgb(183,183,191)\"},\"line\":{\"color\":\"white\"}},\"type\":\"table\"}]},\"layout\":{\"annotationdefaults\":{\"arrowcolor\":\"rgb(67,103,167)\"},\"autotypenumbers\":\"strict\",\"coloraxis\":{\"colorbar\":{\"outlinewidth\":0,\"tickcolor\":\"rgb(36,36,36)\",\"ticklen\":8,\"ticks\":\"outside\",\"tickwidth\":2}},\"colorscale\":{\"sequential\":[[0.0,\"rgb(2,4,25)\"],[0.06274509803921569,\"rgb(24,15,41)\"],[0.12549019607843137,\"rgb(47,23,57)\"],[0.18823529411764706,\"rgb(71,28,72)\"],[0.25098039215686274,\"rgb(97,30,82)\"],[0.3137254901960784,\"rgb(123,30,89)\"],[0.3764705882352941,\"rgb(150,27,91)\"],[0.4392156862745098,\"rgb(177,22,88)\"],[0.5019607843137255,\"rgb(203,26,79)\"],[0.5647058823529412,\"rgb(223,47,67)\"],[0.6274509803921569,\"rgb(236,76,61)\"],[0.6901960784313725,\"rgb(242,107,73)\"],[0.7529411764705882,\"rgb(244,135,95)\"],[0.8156862745098039,\"rgb(245,162,122)\"],[0.8784313725490196,\"rgb(246,188,153)\"],[0.9411764705882353,\"rgb(247,212,187)\"],[1.0,\"rgb(250,234,220)\"]],\"sequentialminus\":[[0.0,\"rgb(2,4,25)\"],[0.06274509803921569,\"rgb(24,15,41)\"],[0.12549019607843137,\"rgb(47,23,57)\"],[0.18823529411764706,\"rgb(71,28,72)\"],[0.25098039215686274,\"rgb(97,30,82)\"],[0.3137254901960784,\"rgb(123,30,89)\"],[0.3764705882352941,\"rgb(150,27,91)\"],[0.4392156862745098,\"rgb(177,22,88)\"],[0.5019607843137255,\"rgb(203,26,79)\"],[0.5647058823529412,\"rgb(223,47,67)\"],[0.6274509803921569,\"rgb(236,76,61)\"],[0.6901960784313725,\"rgb(242,107,73)\"],[0.7529411764705882,\"rgb(244,135,95)\"],[0.8156862745098039,\"rgb(245,162,122)\"],[0.8784313725490196,\"rgb(246,188,153)\"],[0.9411764705882353,\"rgb(247,212,187)\"],[1.0,\"rgb(250,234,220)\"]]},\"colorway\":[\"rgb(76,114,176)\",\"rgb(221,132,82)\",\"rgb(85,168,104)\",\"rgb(196,78,82)\",\"rgb(129,114,179)\",\"rgb(147,120,96)\",\"rgb(218,139,195)\",\"rgb(140,140,140)\",\"rgb(204,185,116)\",\"rgb(100,181,205)\"],\"font\":{\"color\":\"rgb(36,36,36)\"},\"geo\":{\"bgcolor\":\"white\",\"lakecolor\":\"white\",\"landcolor\":\"rgb(234,234,242)\",\"showlakes\":true,\"showland\":true,\"subunitcolor\":\"white\"},\"hoverlabel\":{\"align\":\"left\"},\"hovermode\":\"closest\",\"paper_bgcolor\":\"white\",\"plot_bgcolor\":\"rgb(234,234,242)\",\"polar\":{\"angularaxis\":{\"gridcolor\":\"white\",\"linecolor\":\"white\",\"showgrid\":true,\"ticks\":\"\"},\"bgcolor\":\"rgb(234,234,242)\",\"radialaxis\":{\"gridcolor\":\"white\",\"linecolor\":\"white\",\"showgrid\":true,\"ticks\":\"\"}},\"scene\":{\"xaxis\":{\"backgroundcolor\":\"rgb(234,234,242)\",\"gridcolor\":\"white\",\"gridwidth\":2,\"linecolor\":\"white\",\"showbackground\":true,\"showgrid\":true,\"ticks\":\"\",\"zerolinecolor\":\"white\"},\"yaxis\":{\"backgroundcolor\":\"rgb(234,234,242)\",\"gridcolor\":\"white\",\"gridwidth\":2,\"linecolor\":\"white\",\"showbackground\":true,\"showgrid\":true,\"ticks\":\"\",\"zerolinecolor\":\"white\"},\"zaxis\":{\"backgroundcolor\":\"rgb(234,234,242)\",\"gridcolor\":\"white\",\"gridwidth\":2,\"linecolor\":\"white\",\"showbackground\":true,\"showgrid\":true,\"ticks\":\"\",\"zerolinecolor\":\"white\"}},\"shapedefaults\":{\"fillcolor\":\"rgb(67,103,167)\",\"line\":{\"width\":0},\"opacity\":0.5},\"ternary\":{\"aaxis\":{\"gridcolor\":\"white\",\"linecolor\":\"white\",\"showgrid\":true,\"ticks\":\"\"},\"baxis\":{\"gridcolor\":\"white\",\"linecolor\":\"white\",\"showgrid\":true,\"ticks\":\"\"},\"bgcolor\":\"rgb(234,234,242)\",\"caxis\":{\"gridcolor\":\"white\",\"linecolor\":\"white\",\"showgrid\":true,\"ticks\":\"\"}},\"xaxis\":{\"automargin\":true,\"gridcolor\":\"white\",\"linecolor\":\"white\",\"showgrid\":true,\"ticks\":\"\",\"title\":{\"standoff\":15},\"zerolinecolor\":\"white\"},\"yaxis\":{\"automargin\":true,\"gridcolor\":\"white\",\"linecolor\":\"white\",\"showgrid\":true,\"ticks\":\"\",\"title\":{\"standoff\":15},\"zerolinecolor\":\"white\"}}},\"scene\":{\"domain\":{\"x\":[0.0,1.0],\"y\":[0.0,1.0]},\"xaxis\":{\"title\":{\"text\":\"NA_BIAS\"}},\"yaxis\":{\"title\":{\"text\":\"WEU_BIAS\"}},\"zaxis\":{\"title\":{\"text\":\"CN_BIAS\"}}},\"legend\":{\"title\":{\"text\":\"DISCORD_NAME\"},\"tracegroupgap\":0},\"margin\":{\"t\":60},\"height\":1000},                        {\"responsive\": true}                    ).then(function(){\n",
       "                            \n",
       "var gd = document.getElementById('6194d38e-d4da-4f47-b164-81d1c5c0783e');\n",
       "var x = new MutationObserver(function (mutations, observer) {{\n",
       "        var display = window.getComputedStyle(gd).display;\n",
       "        if (!display || display === 'none') {{\n",
       "            console.log([gd, 'removed!']);\n",
       "            Plotly.purge(gd);\n",
       "            observer.disconnect();\n",
       "        }}\n",
       "}});\n",
       "\n",
       "// Listen for the removal of the full notebook cells\n",
       "var notebookContainer = gd.closest('#notebook-container');\n",
       "if (notebookContainer) {{\n",
       "    x.observe(notebookContainer, {childList: true});\n",
       "}}\n",
       "\n",
       "// Listen for the clearing of the current output cell\n",
       "var outputEl = gd.closest('.output');\n",
       "if (outputEl) {{\n",
       "    x.observe(outputEl, {childList: true});\n",
       "}}\n",
       "\n",
       "                        })                };                });            </script>        </div>"
      ]
     },
     "metadata": {},
     "output_type": "display_data"
    }
   ],
   "source": [
    "fig = px.scatter_3d(r_bias_df, x='NA_BIAS', y='WEU_BIAS', z='CN_BIAS', color='DISCORD_NAME', template = 'seaborn', height=1000)\n",
    "fig.show()\n",
    "\n",
    "fig.write_html(\"./results/esl_berlin_group_stage_bias.html\")"
   ]
  },
  {
   "cell_type": "code",
   "execution_count": null,
   "id": "f1c11fd5-2a6b-4326-8524-6a90d6367a6e",
   "metadata": {},
   "outputs": [],
   "source": []
  }
 ],
 "metadata": {
  "kernelspec": {
   "display_name": "data-analysis",
   "language": "python",
   "name": "data-analysis"
  },
  "language_info": {
   "codemirror_mode": {
    "name": "ipython",
    "version": 3
   },
   "file_extension": ".py",
   "mimetype": "text/x-python",
   "name": "python",
   "nbconvert_exporter": "python",
   "pygments_lexer": "ipython3",
   "version": "3.11.3"
  }
 },
 "nbformat": 4,
 "nbformat_minor": 5
}
